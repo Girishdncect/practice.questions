{
 "cells": [
  {
   "cell_type": "markdown",
   "id": "02b52b5f-e518-45e4-8433-31dbf3f9502f",
   "metadata": {},
   "source": [
    "TOPIC: String Based Assignment Problem\n",
    "\n",
    "Full Stack Data Science Pro\n",
    "1. Write a program to reverse a string.\n",
    "2. Check if a string is a palindrome.\n",
    "3. Convert a string to uppercase.\n",
    "4. Convert a string to lowercase.\n",
    "5. Count the number of vowels in a string.\n",
    "6. Count the number of consonants in a string.\n",
    "7. Remove all whitespaces from a string.\n",
    "8. Find the length of a string without using the `len()` function.\n",
    "9. Check if a string contains a specific word.\n",
    "10. Replace a word in a string with another word.\n",
    "11. Count the occurrences of a word in a string.\n",
    "12. Find the first occurrence of a word in a string.\n",
    "13. Find the last occurrence of a word in a string.\n",
    "14. Split a string into a list of words.\n",
    "15. Join a list of words into a string.\n",
    "16. Convert a string where words are separated by spaces to one where words\n",
    "are separated by underscores.\n",
    "17. Check if a string starts with a specific word or phrase.\n",
    "18. Check if a string ends with a specific word or phrase.\n",
    "19. Convert a string to title case (e.g., \"hello world\" to \"Hello World\").\n",
    "20. Find the longest word in a string.\n",
    "21. Find the shortest word in a string.\n",
    "22. Reverse the order of words in a string.\n",
    "23. Check if a string is alphanumeric.\n",
    "24. Extract all digits from a string.\n",
    "25. Extract all alphabets from a string.\n",
    "26. Count the number of uppercase letters in a string.\n",
    "27. Count the number of lowercase letters in a string.\n",
    "28. Swap the case of each character in a string.\n",
    "29. Remove a specific word from a string.\n",
    "30. Check if a string is a valid email address.\n",
    "\n",
    "Full Stack Data Science Pro\n",
    "31. Extract the username from an email address string.\n",
    "32. Extract the domain name from an email address string.\n",
    "33. Replace multiple spaces in a string with a single space.\n",
    "34. Check if a string is a valid URL.\n",
    "35. Extract the protocol (http or https) from a URL string.\n",
    "36. Find the frequency of each character in a string.\n",
    "37. Remove all punctuation from a string.\n",
    "38. Check if a string contains only digits.\n",
    "39. Check if a string contains only alphabets.\n",
    "40. Convert a string to a list of characters.\n",
    "41. Check if two strings are anagrams.\n",
    "42. Encode a string using a Caesar cipher.\n",
    "43. Decode a Caesar cipher encoded string.\n",
    "44. Find the most frequent word in a string.\n",
    "45. Find all unique words in a string.\n",
    "46. Count the number of syllables in a string.\n",
    "\n",
    "Full Stack Data Science Pro\n",
    "47. Check if a string contains any special characters.\n",
    "48. Remove the nth word from a string.\n",
    "49. Insert a word at the nth position in a string.\n",
    "50. Convert a CSV string to a list of lists.\n",
    "\n",
    "List Based Practice Problem :\n",
    "\n",
    "1. Create a list with integers from 1 to 10.\n",
    "2. Find the length of a list without using the `len()` function.\n",
    "3. Append an element to the end of a list.\n",
    "4. Insert an element at a specific index in a list.\n",
    "5. Remove an element from a list by its value.\n",
    "6. Remove an element from a list by its index.\n",
    "7. Check if an element exists in a list.\n",
    "\n",
    "8. Find the index of the first occurrence of an element in a list.\n",
    "\n",
    "9. Count the occurrences of an element in a list.\n",
    "\n",
    "10. Reverse the order of elements in a list.\n",
    "\n",
    "Full Stack Data Science Pro\n",
    "\n",
    "11. Sort a list in ascending order.\n",
    "12. Sort a list in descending order.\n",
    "13. Create a list of even numbers from 1 to 20.\n",
    "\n",
    "14. Create a list of odd numbers from 1 to 20.\n",
    "\n",
    "15. Find the sum of all elements in a list.\n",
    "\n",
    "16. Find the maximum value in a list.\n",
    "\n",
    "17. Find the minimum value in a list.\n",
    "\n",
    "18. Create a list of squares of numbers from 1 to 10.\n",
    "19. Create a list of random numbers.\n",
    "\n",
    "20. Remove duplicates from a list.\n",
    "21. Find the common elements between two lists.\n",
    "\n",
    "22. Find the difference between two lists.\n",
    "\n",
    "23. Merge two lists.\n",
    "24. Multiply all elements in a list by 2.\n",
    "25. Filter out all even numbers from a list.\n",
    "\n",
    "Full Stack Data Science Pro\n",
    "\n",
    "26. Convert a list of strings to a list of integers.\n",
    "27. Convert a list of integers to a list of strings.\n",
    "28. Flatten a nested list.\n",
    "\n",
    "29. Create a list of the first 10 Fibonacci numbers.\n",
    "\n",
    "30. Check if a list is sorted.\n",
    "\n",
    "31. Rotate a list to the left by `n` positions.\n",
    "32. Rotate a list to the right by `n` positions.\n",
    "33. Create a list of prime numbers up to 50.\n",
    "34. Split a list into chunks of size `n`.\n",
    "35. Find the second largest number in a list.\n",
    "36. Replace every element in a list with its square.\n",
    "37. Convert a list to a dictionary where list elements become keys and their\n",
    "indices become values.\n",
    "\n",
    "38. Shuffle the elements of a list randomly.\n",
    "39. Create a list of the first 10 factorial numbers.\n",
    "\n",
    "Full Stack Data Science Pro\n",
    "40. Check if two lists have at least one element in common.\n",
    "\n",
    "41. Remove all elements from a list.\n",
    "\n",
    "42. Replace negative numbers in a list with 0.\n",
    "43. Convert a string into a list of words.\n",
    "44. Convert a list of words into a string.\n",
    "45. Create a list of the first `n` powers of 2.\n",
    "46. Find the longest string in a list of strings.\n",
    "47. Find the shortest string in a list of strings.\n",
    "48. Create a list of the first `n` triangular numbers.\n",
    "49. Check if a list contains another list as a subsequence.\n",
    "50. Swap two elements in a list by their indices.\n",
    "\n",
    "1. Create a tuple with integers from 1 to 5.\n",
    "2. Access the third element of a tuple.\n",
    "3. Find the length of a tuple without using the `len()` function.\n",
    "4. Count the occurrences of an element in a tuple.\n",
    "Tuple Based Practice Problem :\n",
    "\n",
    "Full Stack Data Science Pro\n",
    "\n",
    "5. Find the index of the first occurrence of an element in a tuple.\n",
    "6. Check if an element exists in a tuple.\n",
    "7. Convert a tuple to a list.\n",
    "8. Convert a list to a tuple.\n",
    "9. Unpack the elements of a tuple into variables.\n",
    "10. Create a tuple of even numbers from 1 to 10.\n",
    "11. Create a tuple of odd numbers from 1 to 10.\n",
    "12. Concatenate two tuples.\n",
    "13. Repeat a tuple three times.\n",
    "14. Check if a tuple is empty.\n",
    "15. Create a nested tuple.\n",
    "16. Access the first element of a nested tuple.\n",
    "17. Create a tuple with a single element.\n",
    "18. Compare two tuples.\n",
    "19. Delete a tuple.\n",
    "20. Slice a tuple.\n",
    "\n",
    "Full Stack Data Science Pro\n",
    "\n",
    "21. Find the maximum value in a tuple.\n",
    "22. Find the minimum value in a tuple.\n",
    "23. Convert a string to a tuple of characters.\n",
    "24. Convert a tuple of characters to a string.\n",
    "25. Create a tuple from multiple data types.\n",
    "26. Check if two tuples are identical.\n",
    "27. Sort the elements of a tuple.\n",
    "28. Convert a tuple of integers to a tuple of strings.\n",
    "29. Convert a tuple of strings to a tuple of integers.\n",
    "30. Merge two tuples.\n",
    "31. Flatten a nested tuple.\n",
    "32. Create a tuple of the first 5 prime numbers.\n",
    "33. Check if a tuple is a palindrome.\n",
    "34. Create a tuple of squares of numbers from 1 to 5.\n",
    "35. Filter out all even numbers from a tuple.\n",
    "36. Multiply all elements in a tuple by 2.\n",
    "\n",
    "Full Stack Data Science Pro\n",
    "\n",
    "37. Create a tuple of random numbers.\n",
    "38. Check if a tuple is sorted.\n",
    "39. Rotate a tuple to the left by `n` positions.\n",
    "40. Rotate a tuple to the right by `n` positions.\n",
    "41. Create a tuple of the first 5 Fibonacci numbers.\n",
    "42. Create a tuple from user input.\n",
    "43. Swap two elements in a tuple.\n",
    "44. Reverse the elements of a tuple.\n",
    "45. Create a tuple of the first `n` powers of 2.\n",
    "46. Find the longest string in a tuple of strings.\n",
    "47. Find the shortest string in a tuple of strings.\n",
    "48. Create a tuple of the first `n` triangular numbers.\n",
    "49. Check if a tuple contains another tuple as a subsequence.\n",
    "50. Create a tuple of alternating 1s and 0s of length `n`.\n",
    "\n",
    "Full Stack Data Science Pro\n",
    "\n",
    "1. Create a set with integers from 1 to 5.\n",
    "2. Add an element to a set.\n",
    "\n",
    "3. Remove an element from a set.\n",
    "\n",
    "4. Check if an element exists in a set.\n",
    "\n",
    "5. Find the length of a set without using the `len()` function.\n",
    "6. Clear all elements from a set.\n",
    "\n",
    "7. Create a set of even numbers from 1 to 10.\n",
    "\n",
    "8. Create a set of odd numbers from 1 to 10.\n",
    "\n",
    "9. Find the union of two sets.\n",
    "\n",
    "10. Find the intersection of two sets.\n",
    "\n",
    "11. Find the difference between two sets.\n",
    "\n",
    "12. Check if a set is a subset of another set.\n",
    "\n",
    "13. Check if a set is a superset of another set.\n",
    "14. Create a set from a list.\n",
    "\n",
    "15. Convert a set to a list.\n",
    "Set Based Practice Problem :\n",
    "\n",
    "Full Stack Data Science Pro\n",
    "\n",
    "16. Remove a random element from a set.\n",
    "\n",
    "17. Pop an element from a set.\n",
    "18. Check if two sets have no elements in common.\n",
    "\n",
    "19. Find the symmetric difference between two sets.\n",
    "20. Update a set with elements from another set.\n",
    "21. Create a set of the first 5 prime numbers.\n",
    "22. Check if two sets are identical.\n",
    "\n",
    "23. Create a frozen set.\n",
    "\n",
    "24. Check if a set is disjoint with another set.\n",
    "25. Create a set of squares of numbers from 1 to 5.\n",
    "26. Filter out all even numbers from a set.\n",
    "\n",
    "27. Multiply all elements in a set by 2.\n",
    "28. Create a set of random numbers.\n",
    "\n",
    "29. Check if a set is empty.\n",
    "30. Create a nested set (hint: use frozenset).\n",
    "\n",
    "31. Remove an element from a set using the discard method.\n",
    "\n",
    "Full Stack Data Science Pro\n",
    "\n",
    "32. Compare two sets.\n",
    "33. Create a set from a string.\n",
    "34. Convert a set of strings to a set of integers.\n",
    "35. Convert a set of integers to a set of strings.\n",
    "36. Create a set from a tuple.\n",
    "37. Convert a set to a tuple.\n",
    "38. Find the maximum value in a set.\n",
    "\n",
    "39. Find the minimum value in a set.\n",
    "\n",
    "40. Create a set from user input.\n",
    "41. Check if the intersection of two sets is empty.\n",
    "42. Create a set of the first 5 Fibonacci numbers.\n",
    "\n",
    "43. Remove duplicates from a list using sets.\n",
    "44. Check if two sets have the same elements, regardless of their count.\n",
    "45. Create a set of the first `n` powers of 2.\n",
    "46. Find the common elements between a set and a list.\n",
    "\n",
    "47. Create a set of the first `n` triangular numbers.\n",
    "\n",
    "Full Stack Data Science Pro\n",
    "48. Check if a set contains another set as a subset.\n",
    "\n",
    "49. Create a set of alternating 1s and 0s of length `n`.\n",
    "50. Merge multiple sets into one."
   ]
  },
  {
   "cell_type": "code",
   "execution_count": 1,
   "id": "a1bcd27a-9cbe-40c8-8886-fb61f609814e",
   "metadata": {},
   "outputs": [
    {
     "name": "stdout",
     "output_type": "stream",
     "text": [
      "!dlroW ,olleH\n"
     ]
    }
   ],
   "source": [
    "def reverse_string(input_str):\n",
    "    return input_str[::-1]\n",
    "\n",
    "# Example\n",
    "original_string = \"Hello, World!\"\n",
    "reversed_string = reverse_string(original_string)\n",
    "print(reversed_string)\n"
   ]
  },
  {
   "cell_type": "code",
   "execution_count": 2,
   "id": "763f0c64-4014-4eee-98ca-05d7dfd8ce94",
   "metadata": {},
   "outputs": [
    {
     "name": "stdout",
     "output_type": "stream",
     "text": [
      "True\n"
     ]
    }
   ],
   "source": [
    "def is_palindrome(input_str):\n",
    "    cleaned_str = ''.join(input_str.split()).lower()\n",
    "    return cleaned_str == cleaned_str[::-1]\n",
    "\n",
    "# Example\n",
    "test_string = \"A man a plan a canal Panama\"\n",
    "print(is_palindrome(test_string))\n"
   ]
  },
  {
   "cell_type": "code",
   "execution_count": 3,
   "id": "10ac7cfd-fc78-4fa5-8512-dcca09741c08",
   "metadata": {},
   "outputs": [
    {
     "name": "stdout",
     "output_type": "stream",
     "text": [
      "HELLO, WORLD!\n"
     ]
    }
   ],
   "source": [
    "def convert_to_uppercase(input_str):\n",
    "    return input_str.upper()\n",
    "\n",
    "# Example\n",
    "original_string = \"Hello, World!\"\n",
    "uppercase_string = convert_to_uppercase(original_string)\n",
    "print(uppercase_string)\n"
   ]
  },
  {
   "cell_type": "code",
   "execution_count": 4,
   "id": "bb653ac9-fffe-4291-a63e-b8e889cebc7e",
   "metadata": {},
   "outputs": [
    {
     "name": "stdout",
     "output_type": "stream",
     "text": [
      "hello, world!\n"
     ]
    }
   ],
   "source": [
    "def convert_to_lowercase(input_str):\n",
    "    return input_str.lower()\n",
    "\n",
    "# Example\n",
    "original_string = \"Hello, World!\"\n",
    "lowercase_string = convert_to_lowercase(original_string)\n",
    "print(lowercase_string)\n"
   ]
  },
  {
   "cell_type": "code",
   "execution_count": 5,
   "id": "d5050377-404c-45d6-be2d-3f4d5333fefe",
   "metadata": {},
   "outputs": [
    {
     "name": "stdout",
     "output_type": "stream",
     "text": [
      "3\n"
     ]
    }
   ],
   "source": [
    "def count_vowels(input_str):\n",
    "    vowels = \"aeiouAEIOU\"\n",
    "    return sum(1 for char in input_str if char in vowels)\n",
    "\n",
    "# Example\n",
    "test_string = \"Hello, World!\"\n",
    "print(count_vowels(test_string))\n"
   ]
  },
  {
   "cell_type": "code",
   "execution_count": 6,
   "id": "fe97ce14-a550-4cba-b9eb-a9ed8276d086",
   "metadata": {},
   "outputs": [
    {
     "name": "stdout",
     "output_type": "stream",
     "text": [
      "7\n"
     ]
    }
   ],
   "source": [
    "def count_consonants(input_str):\n",
    "    vowels = \"aeiouAEIOU\"\n",
    "    return sum(1 for char in input_str if char.isalpha() and char not in vowels)\n",
    "\n",
    "# Example\n",
    "test_string = \"Hello, World!\"\n",
    "print(count_consonants(test_string))\n"
   ]
  },
  {
   "cell_type": "code",
   "execution_count": 7,
   "id": "89d43f2a-4bb7-4285-a989-7fa8c1dbfc0d",
   "metadata": {},
   "outputs": [
    {
     "name": "stdout",
     "output_type": "stream",
     "text": [
      "Hello,World!\n"
     ]
    }
   ],
   "source": [
    "def remove_whitespaces(input_str):\n",
    "    return ''.join(input_str.split())\n",
    "\n",
    "# Example\n",
    "original_string = \"Hello, World!\"\n",
    "no_whitespaces_string = remove_whitespaces(original_string)\n",
    "print(no_whitespaces_string)\n"
   ]
  },
  {
   "cell_type": "code",
   "execution_count": 8,
   "id": "74f4827f-6a1d-4829-b606-91787205f889",
   "metadata": {},
   "outputs": [
    {
     "name": "stdout",
     "output_type": "stream",
     "text": [
      "13\n"
     ]
    }
   ],
   "source": [
    "def find_length(input_str):\n",
    "    count = 0\n",
    "    for char in input_str:\n",
    "        count += 1\n",
    "    return count\n",
    "\n",
    "# Example\n",
    "test_string = \"Hello, World!\"\n",
    "length = find_length(test_string)\n",
    "print(length)\n"
   ]
  },
  {
   "cell_type": "code",
   "execution_count": 9,
   "id": "418c4760-a108-4a5d-8b08-698aed841ac4",
   "metadata": {},
   "outputs": [
    {
     "name": "stdout",
     "output_type": "stream",
     "text": [
      "True\n"
     ]
    }
   ],
   "source": [
    "def contains_word(input_str, word):\n",
    "    return word in input_str\n",
    "\n",
    "# Example\n",
    "test_string = \"Hello, World!\"\n",
    "specific_word = \"World\"\n",
    "print(contains_word(test_string, specific_word))\n"
   ]
  },
  {
   "cell_type": "code",
   "execution_count": 10,
   "id": "e87fd8db-cfb2-4622-8710-3e971cd2aa58",
   "metadata": {},
   "outputs": [
    {
     "name": "stdout",
     "output_type": "stream",
     "text": [
      "Hello, Universe!\n"
     ]
    }
   ],
   "source": [
    "def replace_word(input_str, old_word, new_word):\n",
    "    return input_str.replace(old_word, new_word)\n",
    "\n",
    "# Example\n",
    "original_string = \"Hello, World!\"\n",
    "new_string = replace_word(original_string, \"World\", \"Universe\")\n",
    "print(new_string)\n"
   ]
  },
  {
   "cell_type": "code",
   "execution_count": 11,
   "id": "79ad00aa-db68-4b37-8d85-9c5ab52c7b91",
   "metadata": {},
   "outputs": [
    {
     "name": "stdout",
     "output_type": "stream",
     "text": [
      "0\n"
     ]
    }
   ],
   "source": [
    "def count_word_occurrences(input_str, word):\n",
    "    words = input_str.split()\n",
    "    return words.count(word)\n",
    "\n",
    "# Example\n",
    "test_string = \"Hello, World! Hello, Universe! Hello, World!\"\n",
    "word_to_count = \"Hello\"\n",
    "print(count_word_occurrences(test_string, word_to_count))\n"
   ]
  },
  {
   "cell_type": "code",
   "execution_count": 12,
   "id": "30cfa7d9-7c5a-4048-902a-cf9388c08335",
   "metadata": {},
   "outputs": [
    {
     "name": "stdout",
     "output_type": "stream",
     "text": [
      "0\n"
     ]
    }
   ],
   "source": [
    "def find_first_occurrence(input_str, word):\n",
    "    index = input_str.find(word)\n",
    "    return index if index != -1 else None\n",
    "\n",
    "# Example\n",
    "test_string = \"Hello, World! Hello, Universe! Hello, World!\"\n",
    "word_to_find = \"Hello\"\n",
    "print(find_first_occurrence(test_string, word_to_find))\n"
   ]
  },
  {
   "cell_type": "code",
   "execution_count": 13,
   "id": "4170a0d5-bcf6-491d-a717-fa90762d9c23",
   "metadata": {},
   "outputs": [
    {
     "name": "stdout",
     "output_type": "stream",
     "text": [
      "31\n"
     ]
    }
   ],
   "source": [
    "def find_last_occurrence(input_str, word):\n",
    "    index = input_str.rfind(word)\n",
    "    return index if index != -1 else None\n",
    "\n",
    "# Example\n",
    "test_string = \"Hello, World! Hello, Universe! Hello, World!\"\n",
    "word_to_find = \"Hello\"\n",
    "print(find_last_occurrence(test_string, word_to_find))\n"
   ]
  },
  {
   "cell_type": "code",
   "execution_count": 14,
   "id": "10a93988-7385-4ee7-9686-821f1e86ec8a",
   "metadata": {},
   "outputs": [
    {
     "name": "stdout",
     "output_type": "stream",
     "text": [
      "['Hello,', 'World!']\n"
     ]
    }
   ],
   "source": [
    "def split_string(input_str):\n",
    "    return input_str.split()\n",
    "\n",
    "# Example\n",
    "test_string = \"Hello, World!\"\n",
    "word_list = split_string(test_string)\n",
    "print(word_list)\n"
   ]
  },
  {
   "cell_type": "code",
   "execution_count": 15,
   "id": "2e15b8fd-ff18-4d60-8b68-50ec76b09ee8",
   "metadata": {},
   "outputs": [
    {
     "name": "stdout",
     "output_type": "stream",
     "text": [
      "Hello World!\n"
     ]
    }
   ],
   "source": [
    "def join_words(word_list):\n",
    "    return ' '.join(word_list)\n",
    "\n",
    "# Example\n",
    "word_list = [\"Hello\", \"World!\"]\n",
    "joined_string = join_words(word_list)\n",
    "print(joined_string)\n"
   ]
  },
  {
   "cell_type": "code",
   "execution_count": 16,
   "id": "e895af58-c0c6-40cb-8cdc-efeb53a366a4",
   "metadata": {},
   "outputs": [
    {
     "name": "stdout",
     "output_type": "stream",
     "text": [
      "hello_world\n"
     ]
    }
   ],
   "source": [
    "original_string = \"hello world\"\n",
    "underscore_string = original_string.replace(\" \", \"_\")\n",
    "print(underscore_string)\n"
   ]
  },
  {
   "cell_type": "code",
   "execution_count": 17,
   "id": "688dc4d8-515f-401e-af78-02c47b8b1fe9",
   "metadata": {},
   "outputs": [
    {
     "name": "stdout",
     "output_type": "stream",
     "text": [
      "True\n"
     ]
    }
   ],
   "source": [
    "my_string = \"Hello, world!\"\n",
    "starts_with_hello = my_string.startswith(\"Hello\")\n",
    "print(starts_with_hello)\n"
   ]
  },
  {
   "cell_type": "code",
   "execution_count": 20,
   "id": "d8be1e55-7b26-4836-ac1f-ca2ad9865bb6",
   "metadata": {},
   "outputs": [
    {
     "name": "stdout",
     "output_type": "stream",
     "text": [
      "Hello World\n"
     ]
    }
   ],
   "source": [
    "my_string = \"hello world\"\n",
    "title_case_string = my_string.title()\n",
    "print(title_case_string)\n"
   ]
  },
  {
   "cell_type": "code",
   "execution_count": 21,
   "id": "fab3207f-466c-4f9f-99ba-8ebe1174fd78",
   "metadata": {},
   "outputs": [
    {
     "name": "stdout",
     "output_type": "stream",
     "text": [
      "Hello World\n"
     ]
    }
   ],
   "source": [
    "my_string = \"hello world\"\n",
    "title_case_string = my_string.title()\n",
    "print(title_case_string)\n"
   ]
  },
  {
   "cell_type": "code",
   "execution_count": 22,
   "id": "d3665404-04d2-4ebe-9f17-366c2700566e",
   "metadata": {},
   "outputs": [
    {
     "name": "stdout",
     "output_type": "stream",
     "text": [
      "string sample a is This\n"
     ]
    }
   ],
   "source": [
    "my_string = \"This is a sample string\"\n",
    "reversed_string = ' '.join(reversed(my_string.split()))\n",
    "print(reversed_string)\n"
   ]
  },
  {
   "cell_type": "code",
   "execution_count": 23,
   "id": "2ddfd7f7-4706-42ba-bf03-b7209dc13db3",
   "metadata": {},
   "outputs": [
    {
     "name": "stdout",
     "output_type": "stream",
     "text": [
      "True\n"
     ]
    }
   ],
   "source": [
    "my_string = \"abc123\"\n",
    "is_alphanumeric = my_string.isalnum()\n",
    "print(is_alphanumeric)\n"
   ]
  },
  {
   "cell_type": "code",
   "execution_count": 24,
   "id": "222da70e-4966-443e-beec-35725ed71507",
   "metadata": {},
   "outputs": [
    {
     "name": "stdout",
     "output_type": "stream",
     "text": [
      "123456\n"
     ]
    }
   ],
   "source": [
    "my_string = \"abc123xyz456\"\n",
    "digits_only = ''.join(filter(str.isdigit, my_string))\n",
    "print(digits_only)\n"
   ]
  },
  {
   "cell_type": "code",
   "execution_count": 25,
   "id": "b4a4312b-6168-4f21-a1b3-206c3dd3daf3",
   "metadata": {},
   "outputs": [
    {
     "name": "stdout",
     "output_type": "stream",
     "text": [
      "abcxyz\n"
     ]
    }
   ],
   "source": [
    "my_string = \"abc123xyz456\"\n",
    "alphabets_only = ''.join(filter(str.isalpha, my_string))\n",
    "print(alphabets_only)\n"
   ]
  },
  {
   "cell_type": "code",
   "execution_count": 26,
   "id": "fdad8c69-7e7d-4b04-b9e7-2911c14898da",
   "metadata": {},
   "outputs": [
    {
     "name": "stdout",
     "output_type": "stream",
     "text": [
      "2\n"
     ]
    }
   ],
   "source": [
    "my_string = \"Hello World\"\n",
    "uppercase_count = sum(1 for char in my_string if char.isupper())\n",
    "print(uppercase_count)\n"
   ]
  },
  {
   "cell_type": "code",
   "execution_count": 27,
   "id": "1edf958e-99c9-473f-92ae-252cf38911ad",
   "metadata": {},
   "outputs": [
    {
     "name": "stdout",
     "output_type": "stream",
     "text": [
      "8\n"
     ]
    }
   ],
   "source": [
    "my_string = \"Hello World\"\n",
    "lowercase_count = sum(1 for char in my_string if char.islower())\n",
    "print(lowercase_count)\n"
   ]
  },
  {
   "cell_type": "code",
   "execution_count": 28,
   "id": "a1522605-6646-4023-8628-1585fc57e94e",
   "metadata": {},
   "outputs": [
    {
     "name": "stdout",
     "output_type": "stream",
     "text": [
      "hELLO wORLD\n"
     ]
    }
   ],
   "source": [
    "my_string = \"Hello World\"\n",
    "swapped_case_string = my_string.swapcase()\n",
    "print(swapped_case_string)\n"
   ]
  },
  {
   "cell_type": "code",
   "execution_count": 29,
   "id": "00fdfad0-5021-47a1-bc07-bb4699e24d5a",
   "metadata": {},
   "outputs": [
    {
     "name": "stdout",
     "output_type": "stream",
     "text": [
      "Hello \n"
     ]
    }
   ],
   "source": [
    "original_string = \"Hello World\"\n",
    "word_to_remove = \"World\"\n",
    "new_string = original_string.replace(word_to_remove, '')\n",
    "print(new_string)\n"
   ]
  },
  {
   "cell_type": "code",
   "execution_count": 30,
   "id": "13005d81-16a5-4538-ade5-8ebad56a85fb",
   "metadata": {},
   "outputs": [
    {
     "name": "stdout",
     "output_type": "stream",
     "text": [
      "True\n"
     ]
    }
   ],
   "source": [
    "import re\n",
    "\n",
    "email_address = \"user@example.com\"\n",
    "is_valid_email = re.match(r\"[^@]+@[^@]+\\.[^@]+\", email_address) is not None\n",
    "print(is_valid_email)\n"
   ]
  },
  {
   "cell_type": "code",
   "execution_count": 31,
   "id": "b7da755f-d4c6-4bb5-9002-90756bdbaa63",
   "metadata": {},
   "outputs": [
    {
     "name": "stdout",
     "output_type": "stream",
     "text": [
      "user\n"
     ]
    }
   ],
   "source": [
    "email_address = \"user@example.com\"\n",
    "username = email_address.split('@')[0]\n",
    "print(username)\n"
   ]
  },
  {
   "cell_type": "code",
   "execution_count": 33,
   "id": "1f8f531e-67ed-46ef-8e18-802816bda414",
   "metadata": {},
   "outputs": [
    {
     "name": "stdout",
     "output_type": "stream",
     "text": [
      "example.com\n"
     ]
    }
   ],
   "source": [
    "email_address = \"user@example.com\"\n",
    "domain_name = email_address.split('@')[1]\n",
    "print(domain_name)\n"
   ]
  },
  {
   "cell_type": "code",
   "execution_count": 34,
   "id": "490acedb-be71-482d-82d6-d5ccaa504a07",
   "metadata": {},
   "outputs": [
    {
     "name": "stdout",
     "output_type": "stream",
     "text": [
      "Hello World\n"
     ]
    }
   ],
   "source": [
    "my_string = \"Hello      World\"\n",
    "single_space_string = ' '.join(my_string.split())\n",
    "print(single_space_string)\n"
   ]
  },
  {
   "cell_type": "code",
   "execution_count": 35,
   "id": "b9f94148-c799-4b2f-a8b6-0716cab08fa0",
   "metadata": {},
   "outputs": [
    {
     "name": "stdout",
     "output_type": "stream",
     "text": [
      "True\n"
     ]
    }
   ],
   "source": [
    "import re\n",
    "\n",
    "url = \"http://www.example.com\"\n",
    "is_valid_url = re.match(r\"https?://www\\.[a-zA-Z0-9-]+\\.[a-zA-Z]{2,}\", url) is not None\n",
    "print(is_valid_url)\n"
   ]
  },
  {
   "cell_type": "code",
   "execution_count": 36,
   "id": "bfc11f9a-1c8e-4465-864e-5dab5344f385",
   "metadata": {},
   "outputs": [
    {
     "name": "stdout",
     "output_type": "stream",
     "text": [
      "https\n"
     ]
    }
   ],
   "source": [
    "url = \"https://www.example.com\"\n",
    "protocol = url.split('://')[0]\n",
    "print(protocol)\n"
   ]
  },
  {
   "cell_type": "code",
   "execution_count": 37,
   "id": "4e6c7330-57cf-46a8-9637-3ade61c3a766",
   "metadata": {},
   "outputs": [
    {
     "name": "stdout",
     "output_type": "stream",
     "text": [
      "{'o': 2, 'w': 1, 'h': 1, 'd': 1, 'e': 1, 'l': 3, 'r': 1, ' ': 1}\n"
     ]
    }
   ],
   "source": [
    "my_string = \"hello world\"\n",
    "char_frequency = {char: my_string.count(char) for char in set(my_string)}\n",
    "print(char_frequency)\n"
   ]
  },
  {
   "cell_type": "code",
   "execution_count": 38,
   "id": "0ca75b94-7e6a-42d3-8ee1-236ae42cbca8",
   "metadata": {},
   "outputs": [
    {
     "name": "stdout",
     "output_type": "stream",
     "text": [
      "Hello world\n"
     ]
    }
   ],
   "source": [
    "import string\n",
    "\n",
    "my_string = \"Hello, world!\"\n",
    "no_punctuation_string = my_string.translate(str.maketrans(\"\", \"\", string.punctuation))\n",
    "print(no_punctuation_string)\n"
   ]
  },
  {
   "cell_type": "code",
   "execution_count": 39,
   "id": "4ce2d9e1-1cfd-419a-94c0-4fee70618875",
   "metadata": {},
   "outputs": [
    {
     "name": "stdout",
     "output_type": "stream",
     "text": [
      "True\n"
     ]
    }
   ],
   "source": [
    "my_string = \"12345\"\n",
    "contains_only_digits = my_string.isdigit()\n",
    "print(contains_only_digits)\n"
   ]
  },
  {
   "cell_type": "code",
   "execution_count": 41,
   "id": "a826b558-1740-482e-abb4-14bf4fc7d7aa",
   "metadata": {},
   "outputs": [
    {
     "name": "stdout",
     "output_type": "stream",
     "text": [
      "['h', 'e', 'l', 'l', 'o']\n"
     ]
    }
   ],
   "source": [
    "my_string = \"hello\"\n",
    "char_list = list(my_string)\n",
    "print(char_list)\n"
   ]
  },
  {
   "cell_type": "code",
   "execution_count": 42,
   "id": "34983846-cf0b-4256-9cc2-42b6785c8437",
   "metadata": {},
   "outputs": [
    {
     "name": "stdout",
     "output_type": "stream",
     "text": [
      "True\n"
     ]
    }
   ],
   "source": [
    "str1 = \"listen\"\n",
    "str2 = \"silent\"\n",
    "are_anagrams = sorted(str1) == sorted(str2)\n",
    "print(are_anagrams)\n"
   ]
  },
  {
   "cell_type": "code",
   "execution_count": 43,
   "id": "80d5d8b9-2d87-41f6-a581-282bc4077156",
   "metadata": {},
   "outputs": [
    {
     "name": "stdout",
     "output_type": "stream",
     "text": [
      "Khoor Zruog\n"
     ]
    }
   ],
   "source": [
    "def caesar_cipher(text, shift):\n",
    "    result = \"\"\n",
    "    for char in text:\n",
    "        if char.isalpha():\n",
    "            ascii_offset = ord('a') if char.islower() else ord('A')\n",
    "            result += chr((ord(char) - ascii_offset + shift) % 26 + ascii_offset)\n",
    "        else:\n",
    "            result += char\n",
    "    return result\n",
    "\n",
    "original_text = \"Hello World\"\n",
    "shift_amount = 3\n",
    "encoded_text = caesar_cipher(original_text, shift_amount)\n",
    "print(encoded_text)\n"
   ]
  },
  {
   "cell_type": "code",
   "execution_count": 44,
   "id": "c4bba5ab-a4f2-4a15-b7ea-2c3e805d18cc",
   "metadata": {},
   "outputs": [
    {
     "name": "stdout",
     "output_type": "stream",
     "text": [
      "Hello World\n"
     ]
    }
   ],
   "source": [
    "def caesar_decipher(text, shift):\n",
    "    return caesar_cipher(text, -shift)\n",
    "\n",
    "decoded_text = caesar_decipher(encoded_text, shift_amount)\n",
    "print(decoded_text)\n"
   ]
  },
  {
   "cell_type": "code",
   "execution_count": 45,
   "id": "fa7cc2ba-7e6b-42ea-b474-bc851894dba0",
   "metadata": {},
   "outputs": [
    {
     "name": "stdout",
     "output_type": "stream",
     "text": [
      "hello\n"
     ]
    }
   ],
   "source": [
    "from collections import Counter\n",
    "\n",
    "my_string = \"hello world hello\"\n",
    "most_frequent_word = Counter(my_string.split()).most_common(1)[0][0]\n",
    "print(most_frequent_word)\n"
   ]
  },
  {
   "cell_type": "code",
   "execution_count": 46,
   "id": "4837e7f3-850c-453a-9f62-15e56888ff02",
   "metadata": {},
   "outputs": [
    {
     "name": "stdout",
     "output_type": "stream",
     "text": [
      "{'world', 'hello'}\n"
     ]
    }
   ],
   "source": [
    "my_string = \"hello world hello\"\n",
    "unique_words = set(my_string.split())\n",
    "print(unique_words)\n"
   ]
  },
  {
   "cell_type": "code",
   "execution_count": 51,
   "id": "68c9a695-e818-4dd7-98fc-2be83115164a",
   "metadata": {},
   "outputs": [
    {
     "name": "stdout",
     "output_type": "stream",
     "text": [
      "List with integers from 1 to 10: [1, 2, 3, 4, 5, 6, 7, 8, 9, 10]\n"
     ]
    }
   ],
   "source": [
    "# 1. Create a list with integers from 1 to 10\n",
    "my_list = list(range(1, 11))\n",
    "print(\"List with integers from 1 to 10:\", my_list)\n"
   ]
  },
  {
   "cell_type": "code",
   "execution_count": 52,
   "id": "0bdf5acb-3fed-4f8c-99a5-3eb9cdca1d0d",
   "metadata": {},
   "outputs": [
    {
     "name": "stdout",
     "output_type": "stream",
     "text": [
      "Length of the list: 10\n"
     ]
    }
   ],
   "source": [
    "# 2. Find the length of a list without using the len() function\n",
    "def find_length(lst):\n",
    "    count = 0\n",
    "    for _ in lst:\n",
    "        count += 1\n",
    "    return count\n",
    "\n",
    "length_of_list = find_length(my_list)\n",
    "print(\"Length of the list:\", length_of_list)\n"
   ]
  },
  {
   "cell_type": "code",
   "execution_count": 53,
   "id": "c79ac980-0cf1-4b64-bb79-b746a60e9604",
   "metadata": {},
   "outputs": [
    {
     "name": "stdout",
     "output_type": "stream",
     "text": [
      "List after appending element: [1, 2, 3, 4, 5, 6, 7, 8, 9, 10, 11]\n"
     ]
    }
   ],
   "source": [
    "# 3. Append an element to the end of a list\n",
    "my_list.append(11)\n",
    "print(\"List after appending element:\", my_list)\n"
   ]
  },
  {
   "cell_type": "code",
   "execution_count": 55,
   "id": "f9fafef5-7716-4570-a567-10239aae78e5",
   "metadata": {},
   "outputs": [
    {
     "name": "stdout",
     "output_type": "stream",
     "text": [
      "List after removing element at index 4: [1, 2, 12, 3, 5, 6, 7, 8, 9, 10, 11]\n"
     ]
    }
   ],
   "source": [
    "# 6. Remove an element from a list by its index\n",
    "del my_list[4]\n",
    "print(\"List after removing element at index 4:\", my_list)\n"
   ]
  },
  {
   "cell_type": "code",
   "execution_count": 56,
   "id": "c3717048-e843-46ff-b61c-f34c6cda398d",
   "metadata": {},
   "outputs": [
    {
     "name": "stdout",
     "output_type": "stream",
     "text": [
      "Does 8 exist in the list? True\n"
     ]
    }
   ],
   "source": [
    "# 7. Check if an element exists in a list\n",
    "element_to_check = 8\n",
    "element_exists = element_to_check in my_list\n",
    "print(f\"Does {element_to_check} exist in the list? {element_exists}\")\n"
   ]
  },
  {
   "cell_type": "code",
   "execution_count": 57,
   "id": "c9a5d423-42fc-4caa-bc1a-c0ff6ef0df18",
   "metadata": {},
   "outputs": [
    {
     "name": "stdout",
     "output_type": "stream",
     "text": [
      "Index of 8: 9\n"
     ]
    }
   ],
   "source": [
    "# 8. Find the index of the first occurrence of an element in a list\n",
    "index_of_element = my_list.index(10)\n",
    "print(f\"Index of {element_to_check}: {index_of_element}\")\n"
   ]
  },
  {
   "cell_type": "code",
   "execution_count": 58,
   "id": "fa7ac6c5-141d-4628-a15f-b0ab4c92846d",
   "metadata": {},
   "outputs": [
    {
     "name": "stdout",
     "output_type": "stream",
     "text": [
      "Count of 8: 1\n"
     ]
    }
   ],
   "source": [
    "# 9. Count the occurrences of an element in a list\n",
    "count_of_element = my_list.count(3)\n",
    "print(f\"Count of {element_to_check}: {count_of_element}\")\n"
   ]
  },
  {
   "cell_type": "code",
   "execution_count": 59,
   "id": "4b61ae42-d736-4e0a-8def-34db97c3cf5c",
   "metadata": {},
   "outputs": [
    {
     "name": "stdout",
     "output_type": "stream",
     "text": [
      "Reversed List: [11, 10, 9, 8, 7, 6, 5, 3, 12, 2, 1]\n"
     ]
    }
   ],
   "source": [
    "# 10. Reverse the order of elements in a list\n",
    "reversed_list = my_list[::-1]\n",
    "print(\"Reversed List:\", reversed_list)\n"
   ]
  },
  {
   "cell_type": "code",
   "execution_count": 60,
   "id": "a1ca6b44-e1c1-4f0d-9c30-f51ee6d84f4a",
   "metadata": {},
   "outputs": [
    {
     "name": "stdout",
     "output_type": "stream",
     "text": [
      "Sorted List (Ascending): [1, 2, 3, 5, 6, 7, 8, 9, 10, 11, 12]\n"
     ]
    }
   ],
   "source": [
    "# 11. Sort a list in ascending order\n",
    "sorted_list_asc = sorted(my_list)\n",
    "print(\"Sorted List (Ascending):\", sorted_list_asc)\n"
   ]
  },
  {
   "cell_type": "code",
   "execution_count": 61,
   "id": "cb834818-a95f-457b-a1ad-72f764406412",
   "metadata": {},
   "outputs": [
    {
     "name": "stdout",
     "output_type": "stream",
     "text": [
      "List of even numbers: [2, 4, 6, 8, 10, 12, 14, 16, 18, 20]\n"
     ]
    }
   ],
   "source": [
    "# 13. Create a list of even numbers from 1 to 20\n",
    "even_numbers = list(range(2, 21, 2))\n",
    "print(\"List of even numbers:\", even_numbers)\n"
   ]
  },
  {
   "cell_type": "code",
   "execution_count": 62,
   "id": "896b36d7-53d3-457d-8210-cb6bbb76577c",
   "metadata": {},
   "outputs": [
    {
     "name": "stdout",
     "output_type": "stream",
     "text": [
      "List of odd numbers: [1, 3, 5, 7, 9, 11, 13, 15, 17, 19]\n"
     ]
    }
   ],
   "source": [
    "# 14. Create a list of odd numbers from 1 to 20\n",
    "odd_numbers = list(range(1, 21, 2))\n",
    "print(\"List of odd numbers:\", odd_numbers)\n"
   ]
  },
  {
   "cell_type": "code",
   "execution_count": 63,
   "id": "649dc5ae-5b6b-4416-b632-4e0bcac986a8",
   "metadata": {},
   "outputs": [
    {
     "name": "stdout",
     "output_type": "stream",
     "text": [
      "Sum of elements: 74\n"
     ]
    }
   ],
   "source": [
    "# 15. Find the sum of all elements in a list\n",
    "sum_of_elements = sum(my_list)\n",
    "print(\"Sum of elements:\", sum_of_elements)\n"
   ]
  },
  {
   "cell_type": "code",
   "execution_count": 64,
   "id": "a40550a8-d921-41cb-8fd2-74dc4ef63036",
   "metadata": {},
   "outputs": [
    {
     "name": "stdout",
     "output_type": "stream",
     "text": [
      "Maximum value: 12\n"
     ]
    }
   ],
   "source": [
    "# 16. Find the maximum value in a list\n",
    "max_value = max(my_list)\n",
    "print(\"Maximum value:\", max_value)\n"
   ]
  },
  {
   "cell_type": "code",
   "execution_count": 65,
   "id": "26424894-799c-4a1b-81d4-68dcd453e0a7",
   "metadata": {},
   "outputs": [
    {
     "name": "stdout",
     "output_type": "stream",
     "text": [
      "List of squares: [1, 4, 9, 16, 25, 36, 49, 64, 81, 100]\n"
     ]
    }
   ],
   "source": [
    "# 18. Create a list of squares of numbers from 1 to 10\n",
    "squares_list = [x**2 for x in range(1, 11)]\n",
    "print(\"List of squares:\", squares_list)\n"
   ]
  },
  {
   "cell_type": "code",
   "execution_count": 66,
   "id": "6b1f903c-f7bf-49b1-abbf-f425690c9220",
   "metadata": {},
   "outputs": [
    {
     "name": "stdout",
     "output_type": "stream",
     "text": [
      "List of random numbers: [2, 14, 3, 25, 85, 4, 24, 32, 88, 23]\n"
     ]
    }
   ],
   "source": [
    "# 19. Create a list of random numbers\n",
    "import random\n",
    "random_list = [random.randint(1, 100) for _ in range(10)]\n",
    "print(\"List of random numbers:\", random_list)\n"
   ]
  },
  {
   "cell_type": "code",
   "execution_count": 67,
   "id": "312d8dfd-3b44-460d-9ee1-a330d45f2ff5",
   "metadata": {},
   "outputs": [
    {
     "name": "stdout",
     "output_type": "stream",
     "text": [
      "List without duplicates: [1, 2, 3, 5, 6, 7, 8, 9, 10, 11, 12]\n"
     ]
    }
   ],
   "source": [
    "# 20. Remove duplicates from a list\n",
    "unique_list = list(set(my_list))\n",
    "print(\"List without duplicates:\", unique_list)\n"
   ]
  },
  {
   "cell_type": "code",
   "execution_count": 68,
   "id": "75269d88-5c3b-43e0-8c2f-c1b792315b98",
   "metadata": {},
   "outputs": [
    {
     "name": "stdout",
     "output_type": "stream",
     "text": [
      "Common elements between two lists: [3, 4, 5]\n"
     ]
    }
   ],
   "source": [
    "# 21. Find the common elements between two lists\n",
    "list1 = [1, 2, 3, 4, 5]\n",
    "list2 = [3, 4, 5, 6, 7]\n",
    "common_elements = list(set(list1) & set(list2))\n",
    "print(\"Common elements between two lists:\", common_elements)\n"
   ]
  },
  {
   "cell_type": "code",
   "execution_count": 69,
   "id": "fe926e75-08d7-4271-aeaa-fb6f96ede58f",
   "metadata": {},
   "outputs": [
    {
     "name": "stdout",
     "output_type": "stream",
     "text": [
      "Difference between two lists: [1, 2]\n"
     ]
    }
   ],
   "source": [
    "# 22. Find the difference between two lists\n",
    "difference_list = list(set(list1) - set(list2))\n",
    "print(\"Difference between two lists:\", difference_list)\n"
   ]
  },
  {
   "cell_type": "code",
   "execution_count": 70,
   "id": "dc4ec4b9-ff0a-4484-a14e-2088c97dd95a",
   "metadata": {},
   "outputs": [
    {
     "name": "stdout",
     "output_type": "stream",
     "text": [
      "Merged List: [1, 2, 12, 3, 5, 6, 7, 8, 9, 10, 11, 2, 4, 6, 8, 10, 12, 14, 16, 18, 20]\n"
     ]
    }
   ],
   "source": [
    "# 23. Merge two lists\n",
    "merged_list = my_list + even_numbers\n",
    "print(\"Merged List:\", merged_list)\n"
   ]
  },
  {
   "cell_type": "code",
   "execution_count": 71,
   "id": "565bf659-869b-4c70-a5d2-e5b558738753",
   "metadata": {},
   "outputs": [
    {
     "name": "stdout",
     "output_type": "stream",
     "text": [
      "List with elements multiplied by 2: [2, 4, 24, 6, 10, 12, 14, 16, 18, 20, 22]\n"
     ]
    }
   ],
   "source": [
    "# 24. Multiply all elements in a list by 2\n",
    "multiplied_list = [x * 2 for x in my_list]\n",
    "print(\"List with elements multiplied by 2:\", multiplied_list)\n"
   ]
  },
  {
   "cell_type": "code",
   "execution_count": 72,
   "id": "b6e07143-2c30-4694-b42d-c1bc9487563c",
   "metadata": {},
   "outputs": [
    {
     "name": "stdout",
     "output_type": "stream",
     "text": [
      "List without even numbers: [1, 3, 5, 7, 9, 11]\n"
     ]
    }
   ],
   "source": [
    "# 25. Filter out all even numbers from a list\n",
    "filtered_list = [x for x in my_list if x % 2 != 0]\n",
    "print(\"List without even numbers:\", filtered_list)\n"
   ]
  },
  {
   "cell_type": "code",
   "execution_count": 74,
   "id": "ad57c70d-3908-4ed0-8258-bdc989084d0e",
   "metadata": {},
   "outputs": [
    {
     "name": "stdout",
     "output_type": "stream",
     "text": [
      "List of integers: [1, 2, 3, 4, 5]\n"
     ]
    }
   ],
   "source": [
    "# 26. Convert a list of strings to a list of integers\n",
    "string_list = [\"1\", \"2\", \"3\", \"4\", \"5\"]\n",
    "int_list = list(map(int, string_list))\n",
    "print(\"List of integers:\", int_list)\n"
   ]
  },
  {
   "cell_type": "code",
   "execution_count": 75,
   "id": "32e8fdcd-3aec-4278-8226-b97a34fa9870",
   "metadata": {},
   "outputs": [
    {
     "name": "stdout",
     "output_type": "stream",
     "text": [
      "List of strings: ['1', '2', '3', '4', '5']\n"
     ]
    }
   ],
   "source": [
    "# 27. Convert a list of integers to a list of strings\n",
    "int_list = [1, 2, 3, 4, 5]\n",
    "string_list = list(map(str, int_list))\n",
    "print(\"List of strings:\", string_list)\n"
   ]
  },
  {
   "cell_type": "code",
   "execution_count": 76,
   "id": "7a8c2d8e-2b1e-4f52-a19e-b8b5adc9ced2",
   "metadata": {},
   "outputs": [
    {
     "name": "stdout",
     "output_type": "stream",
     "text": [
      "Flattened List: [1, 2, 3, 4, 5, 6, 7, 8]\n"
     ]
    }
   ],
   "source": [
    "# 28. Flatten a nested list\n",
    "nested_list = [[1, 2, 3], [4, 5], [6, 7, 8]]\n",
    "flattened_list = [item for sublist in nested_list for item in sublist]\n",
    "print(\"Flattened List:\", flattened_list)\n"
   ]
  },
  {
   "cell_type": "code",
   "execution_count": 77,
   "id": "6b36945c-f74c-4ed0-abea-f8724e1d897c",
   "metadata": {},
   "outputs": [
    {
     "name": "stdout",
     "output_type": "stream",
     "text": [
      "First 10 Fibonacci numbers: [0, 1, 1, 2, 3, 5, 8, 13, 21, 34]\n"
     ]
    }
   ],
   "source": [
    "# 29. Create a list of the first 10 Fibonacci numbers\n",
    "def generate_fibonacci(n):\n",
    "    fibonacci_list = [0, 1]\n",
    "    while len(fibonacci_list) < n:\n",
    "        next_fibonacci = fibonacci_list[-1] + fibonacci_list[-2]\n",
    "        fibonacci_list.append(next_fibonacci)\n",
    "    return fibonacci_list[:n]\n",
    "\n",
    "first_10_fibonacci = generate_fibonacci(10)\n",
    "print(\"First 10 Fibonacci numbers:\", first_10_fibonacci)\n"
   ]
  },
  {
   "cell_type": "code",
   "execution_count": 78,
   "id": "b6fe4fcc-d6e7-44e5-b931-76f628d92a91",
   "metadata": {},
   "outputs": [
    {
     "name": "stdout",
     "output_type": "stream",
     "text": [
      "Is the list sorted? False\n"
     ]
    }
   ],
   "source": [
    "# 30. Check if a list is sorted\n",
    "def is_sorted(lst):\n",
    "    return all(lst[i] <= lst[i + 1] for i in range(len(lst) - 1))\n",
    "\n",
    "sorted_check = is_sorted(my_list)\n",
    "print(f\"Is the list sorted? {sorted_check}\")\n"
   ]
  },
  {
   "cell_type": "code",
   "execution_count": 79,
   "id": "e7ccdfcf-fb72-4365-bd05-587917cd4fed",
   "metadata": {},
   "outputs": [
    {
     "name": "stdout",
     "output_type": "stream",
     "text": [
      "List rotated to the left: [12, 3, 5, 6, 7, 8, 9, 10, 11, 1, 2]\n"
     ]
    }
   ],
   "source": [
    "# 31. Rotate a list to the left by `n` positions\n",
    "def rotate_left(lst, n):\n",
    "    n = n % len(lst)\n",
    "    return lst[n:] + lst[:n]\n",
    "\n",
    "rotated_left_list = rotate_left(my_list, 2)\n",
    "print(\"List rotated to the left:\", rotated_left_list)\n"
   ]
  },
  {
   "cell_type": "code",
   "execution_count": 80,
   "id": "1c23ef94-ff04-4b7d-8725-18b787c64b8e",
   "metadata": {},
   "outputs": [
    {
     "name": "stdout",
     "output_type": "stream",
     "text": [
      "List rotated to the right: [10, 11, 1, 2, 12, 3, 5, 6, 7, 8, 9]\n"
     ]
    }
   ],
   "source": [
    "# 32. Rotate a list to the right by `n` positions\n",
    "def rotate_right(lst, n):\n",
    "    n = n % len(lst)\n",
    "    return lst[-n:] + lst[:-n]\n",
    "\n",
    "rotated_right_list = rotate_right(my_list, 2)\n",
    "print(\"List rotated to the right:\", rotated_right_list)\n"
   ]
  },
  {
   "cell_type": "code",
   "execution_count": 81,
   "id": "0f854151-b49e-44ac-a49a-3fa970c231e6",
   "metadata": {},
   "outputs": [
    {
     "name": "stdout",
     "output_type": "stream",
     "text": [
      "List of prime numbers up to 50: [2, 3, 5, 7, 11, 13, 17, 19, 23, 29, 31, 37, 41, 43, 47]\n"
     ]
    }
   ],
   "source": [
    "# 33. Create a list of prime numbers up to 50\n",
    "def is_prime(num):\n",
    "    if num < 2:\n",
    "        return False\n",
    "    for i in range(2, int(num**0.5) + 1):\n",
    "        if num % i == 0:\n",
    "            return False\n",
    "    return True\n",
    "\n",
    "prime_list = [i for i in range(2, 51) if is_prime(i)]\n",
    "print(\"List of prime numbers up to 50:\", prime_list)\n"
   ]
  },
  {
   "cell_type": "code",
   "execution_count": 82,
   "id": "2ef82832-957c-48cf-8fff-ef273637d156",
   "metadata": {},
   "outputs": [
    {
     "name": "stdout",
     "output_type": "stream",
     "text": [
      "List split into chunks of size 3: [[1, 2, 12], [3, 5, 6], [7, 8, 9], [10, 11]]\n"
     ]
    }
   ],
   "source": [
    "# 34. Split a list into chunks of size `n`\n",
    "def chunk_list(lst, n):\n",
    "    return [lst[i:i+n] for i in range(0, len(lst), n)]\n",
    "\n",
    "chunked_list = chunk_list(my_list, 3)\n",
    "print(\"List split into chunks of size 3:\", chunked_list)\n"
   ]
  },
  {
   "cell_type": "code",
   "execution_count": 83,
   "id": "076f4a71-1473-4527-87f6-1c3d32a9b415",
   "metadata": {},
   "outputs": [
    {
     "name": "stdout",
     "output_type": "stream",
     "text": [
      "Second largest number: 11\n"
     ]
    }
   ],
   "source": [
    "# 35. Find the second largest number in a list\n",
    "def second_largest(lst):\n",
    "    unique_numbers = set(lst)\n",
    "    sorted_numbers = sorted(unique_numbers)\n",
    "    if len(sorted_numbers) < 2:\n",
    "        return None\n",
    "    return sorted_numbers[-2]\n",
    "\n",
    "second_largest_number = second_largest(my_list)\n",
    "print(\"Second largest number:\", second_largest_number)\n"
   ]
  },
  {
   "cell_type": "code",
   "execution_count": 84,
   "id": "f0155483-d094-47a0-b66c-133dbae3e10a",
   "metadata": {},
   "outputs": [
    {
     "name": "stdout",
     "output_type": "stream",
     "text": [
      "List with elements squared: [1, 4, 144, 9, 25, 36, 49, 64, 81, 100, 121]\n"
     ]
    }
   ],
   "source": [
    "# 36. Replace every element in a list with its square\n",
    "squared_list = [x**2 for x in my_list]\n",
    "print(\"List with elements squared:\", squared_list)\n"
   ]
  },
  {
   "cell_type": "code",
   "execution_count": 85,
   "id": "c77cd55f-d78b-4f93-ae0d-d6419ca49270",
   "metadata": {},
   "outputs": [
    {
     "name": "stdout",
     "output_type": "stream",
     "text": [
      "Dictionary from the list: {1: 0, 2: 1, 12: 2, 3: 3, 5: 4, 6: 5, 7: 6, 8: 7, 9: 8, 10: 9, 11: 10}\n"
     ]
    }
   ],
   "source": [
    "# 37. Convert a list to a dictionary where list elements become keys and their indices become values\n",
    "list_to_dict = {value: index for index, value in enumerate(my_list)}\n",
    "print(\"Dictionary from the list:\", list_to_dict)\n"
   ]
  },
  {
   "cell_type": "code",
   "execution_count": 86,
   "id": "c69bd35f-826e-4a01-be89-96b52f226980",
   "metadata": {},
   "outputs": [
    {
     "name": "stdout",
     "output_type": "stream",
     "text": [
      "List of the first 10 factorial numbers: [1, 1, 2, 6, 24, 120, 720, 5040, 40320, 362880]\n"
     ]
    }
   ],
   "source": [
    "# 39. Create a list of the first 10 factorial numbers\n",
    "import math\n",
    "factorial_list = [math.factorial(i) for i in range(10)]\n",
    "print(\"List of the first 10 factorial numbers:\", factorial_list)\n"
   ]
  },
  {
   "cell_type": "code",
   "execution_count": 87,
   "id": "c383929a-c5f8-4709-86d3-5c6ee555b631",
   "metadata": {},
   "outputs": [
    {
     "name": "stdout",
     "output_type": "stream",
     "text": [
      "Do the lists have at least one element in common? True\n"
     ]
    }
   ],
   "source": [
    "# 40. Check if two lists have at least one element in common\n",
    "list1 = [1, 2, 3, 4, 5]\n",
    "list2 = [5, 6, 7, 8, 9]\n",
    "common_elements_check = any(item in list1 for item in list2)\n",
    "print(f\"Do the lists have at least one element in common? {common_elements_check}\")\n"
   ]
  },
  {
   "cell_type": "code",
   "execution_count": 88,
   "id": "230ed48b-d9f0-490a-827e-1a7575f4970f",
   "metadata": {},
   "outputs": [
    {
     "name": "stdout",
     "output_type": "stream",
     "text": [
      "List after removing all elements: []\n"
     ]
    }
   ],
   "source": [
    "# 41. Remove all elements from a list\n",
    "my_list.clear()\n",
    "print(\"List after removing all elements:\", my_list)\n"
   ]
  },
  {
   "cell_type": "code",
   "execution_count": 89,
   "id": "5df5ebef-cee1-49a2-ba9d-9a4eda52d151",
   "metadata": {},
   "outputs": [
    {
     "name": "stdout",
     "output_type": "stream",
     "text": [
      "List of words from the string: ['This', 'is', 'a', 'sample', 'string']\n"
     ]
    }
   ],
   "source": [
    "# 43. Convert a string into a list of words\n",
    "input_string = \"This is a sample string\"\n",
    "word_list = input_string.split()\n",
    "print(\"List of words from the string:\", word_list)\n"
   ]
  },
  {
   "cell_type": "code",
   "execution_count": 90,
   "id": "4df59ca6-4cd8-4454-a914-0b7b57df7e6e",
   "metadata": {},
   "outputs": [
    {
     "name": "stdout",
     "output_type": "stream",
     "text": [
      "String from the list of words: This is a sample list\n"
     ]
    }
   ],
   "source": [
    "# 44. Convert a list of words into a string\n",
    "word_list = [\"This\", \"is\", \"a\", \"sample\", \"list\"]\n",
    "string_from_list = \" \".join(word_list)\n",
    "print(\"String from the list of words:\", string_from_list)\n"
   ]
  },
  {
   "cell_type": "code",
   "execution_count": 91,
   "id": "39b761b3-a213-4658-9834-1c075803b74d",
   "metadata": {},
   "outputs": [
    {
     "name": "stdout",
     "output_type": "stream",
     "text": [
      "List of the first 5 powers of 2: [1, 2, 4, 8, 16]\n"
     ]
    }
   ],
   "source": [
    "# 45. Create a list of the first `n` powers of 2\n",
    "n = 5\n",
    "powers_of_two_list = [2 ** i for i in range(n)]\n",
    "print(f\"List of the first {n} powers of 2:\", powers_of_two_list)\n"
   ]
  },
  {
   "cell_type": "code",
   "execution_count": 92,
   "id": "e18fc430-08b1-43c0-8c1d-044f2b14294f",
   "metadata": {},
   "outputs": [
    {
     "name": "stdout",
     "output_type": "stream",
     "text": [
      "List of the first 5 powers of 2: [1, 2, 4, 8, 16]\n"
     ]
    }
   ],
   "source": [
    "# 45. Create a list of the first `n` powers of 2\n",
    "n = 5\n",
    "powers_of_two_list = [2 ** i for i in range(n)]\n",
    "print(f\"List of the first {n} powers of 2:\", powers_of_two_list)\n"
   ]
  },
  {
   "cell_type": "code",
   "execution_count": 93,
   "id": "039fb1da-b4e9-4ab1-816f-665f5109481f",
   "metadata": {},
   "outputs": [
    {
     "name": "stdout",
     "output_type": "stream",
     "text": [
      "Longest string in the list: strawberry\n"
     ]
    }
   ],
   "source": [
    "# 46. Find the longest string in a list of strings\n",
    "string_list = [\"apple\", \"banana\", \"kiwi\", \"strawberry\", \"orange\"]\n",
    "longest_string = max(string_list, key=len)\n",
    "print(\"Longest string in the list:\", longest_string)\n"
   ]
  },
  {
   "cell_type": "code",
   "execution_count": 94,
   "id": "41a74cba-4dc8-48c4-ad59-843a4a6a073b",
   "metadata": {},
   "outputs": [
    {
     "name": "stdout",
     "output_type": "stream",
     "text": [
      "Shortest string in the list: kiwi\n"
     ]
    }
   ],
   "source": [
    "# 47. Find the shortest string in a list of strings\n",
    "shortest_string = min(string_list, key=len)\n",
    "print(\"Shortest string in the list:\", shortest_string)\n"
   ]
  },
  {
   "cell_type": "code",
   "execution_count": 95,
   "id": "2cb87102-fae1-48a4-bc41-d8866ece5ea8",
   "metadata": {},
   "outputs": [
    {
     "name": "stdout",
     "output_type": "stream",
     "text": [
      "List of the first 5 triangular numbers: [0, 1, 3, 6, 10]\n"
     ]
    }
   ],
   "source": [
    "# 48. Create a list of the first `n` triangular numbers\n",
    "triangular_numbers_list = [(i * (i + 1)) // 2 for i in range(n)]\n",
    "print(f\"List of the first {n} triangular numbers:\", triangular_numbers_list)\n"
   ]
  },
  {
   "cell_type": "code",
   "execution_count": 96,
   "id": "72a5287c-dca3-4352-8044-28280c3128d7",
   "metadata": {},
   "outputs": [
    {
     "name": "stdout",
     "output_type": "stream",
     "text": [
      "Is the sub_list a subsequence of my_list? False\n"
     ]
    }
   ],
   "source": [
    "# 49. Check if a list contains another list as a subsequence\n",
    "sub_list = [3, 4, 5]\n",
    "is_subsequence = all(item in my_list for item in sub_list)\n",
    "print(f\"Is the sub_list a subsequence of my_list? {is_subsequence}\")\n"
   ]
  },
  {
   "cell_type": "code",
   "execution_count": 99,
   "id": "ae21fb33-f9d0-4847-982d-0e91cc90937e",
   "metadata": {},
   "outputs": [
    {
     "name": "stdout",
     "output_type": "stream",
     "text": [
      "Invalid indices. Please ensure indices are within the range of the list.\n"
     ]
    }
   ],
   "source": [
    "# 50. Swap two elements in a list by their indices\n",
    "index1, index2 = 1, 3\n",
    "\n",
    "if 0 <= index1 < len(my_list) and 0 <= index2 < len(my_list):\n",
    "    my_list[index1], my_list[index2] = my_list[index2], my_list[index1]\n",
    "    print(\"List after swapping elements:\", my_list)\n",
    "else:\n",
    "    print(\"Invalid indices. Please ensure indices are within the range of the list.\")\n"
   ]
  },
  {
   "cell_type": "markdown",
   "id": "87ba4490-f380-498a-aecc-cadb025e9eb8",
   "metadata": {},
   "source": [
    "1. Create a tuple with integers from 1 to 5."
   ]
  },
  {
   "cell_type": "code",
   "execution_count": 2,
   "id": "689010a8-4c1e-43a2-a6e2-d214e41f8687",
   "metadata": {},
   "outputs": [],
   "source": [
    "my_tuple = (1, 2, 3, 4, 5)"
   ]
  },
  {
   "cell_type": "code",
   "execution_count": 3,
   "id": "cb385bcd-bdeb-483d-9b8e-a2737f649f20",
   "metadata": {},
   "outputs": [
    {
     "name": "stdout",
     "output_type": "stream",
     "text": [
      "Third element: 3\n"
     ]
    }
   ],
   "source": [
    "my_tuple = (1, 2, 3, 4, 5)\n",
    "third_element = my_tuple[2]\n",
    "print(\"Third element:\", third_element)\n"
   ]
  },
  {
   "cell_type": "code",
   "execution_count": 4,
   "id": "a4e8a518-e7ce-4bc6-84c9-820233af4761",
   "metadata": {},
   "outputs": [
    {
     "name": "stdout",
     "output_type": "stream",
     "text": [
      "Length of the tuple: 5\n"
     ]
    }
   ],
   "source": [
    "tuple_length = sum(1 for _ in my_tuple)\n",
    "print(\"Length of the tuple:\", tuple_length)\n"
   ]
  },
  {
   "cell_type": "code",
   "execution_count": 5,
   "id": "8ad13158-3439-4eec-8fcd-1d292082e2df",
   "metadata": {},
   "outputs": [
    {
     "name": "stdout",
     "output_type": "stream",
     "text": [
      "Occurrences of 3 in the tuple: 1\n"
     ]
    }
   ],
   "source": [
    "element_to_count = 3  # Change this to the element you want to count\n",
    "count_occurrences = my_tuple.count(element_to_count)\n",
    "print(f\"Occurrences of {element_to_count} in the tuple:\", count_occurrences)\n"
   ]
  },
  {
   "cell_type": "code",
   "execution_count": 6,
   "id": "adb5eea3-5b0f-41de-a21f-7f483797f6a9",
   "metadata": {},
   "outputs": [
    {
     "name": "stdout",
     "output_type": "stream",
     "text": [
      "Index of 3 : 2\n"
     ]
    }
   ],
   "source": [
    "my_tuple = (1, 2, 3, 4, 5)\n",
    "element_to_find = 3\n",
    "index_of_element = my_tuple.index(element_to_find)\n",
    "print(\"Index of\", element_to_find, \":\", index_of_element)\n"
   ]
  },
  {
   "cell_type": "code",
   "execution_count": 7,
   "id": "2ce4c2ef-e9b8-48c8-be72-af14679a3c53",
   "metadata": {},
   "outputs": [
    {
     "name": "stdout",
     "output_type": "stream",
     "text": [
      "4 exists in the tuple: True\n"
     ]
    }
   ],
   "source": [
    "element_to_check = 4\n",
    "exists_in_tuple = element_to_check in my_tuple\n",
    "print(element_to_check, \"exists in the tuple:\", exists_in_tuple)\n"
   ]
  },
  {
   "cell_type": "code",
   "execution_count": 8,
   "id": "c730d935-79cb-4e0f-a027-b1a139d7ab61",
   "metadata": {},
   "outputs": [
    {
     "name": "stdout",
     "output_type": "stream",
     "text": [
      "Converted to list: [1, 2, 3, 4, 5]\n"
     ]
    }
   ],
   "source": [
    "my_list = list(my_tuple)\n",
    "print(\"Converted to list:\", my_list)\n"
   ]
  },
  {
   "cell_type": "code",
   "execution_count": 9,
   "id": "82e8aa67-cbcb-4b57-83b5-8a8d675f2c86",
   "metadata": {},
   "outputs": [
    {
     "name": "stdout",
     "output_type": "stream",
     "text": [
      "Converted to tuple: (1, 2, 3, 4, 5)\n"
     ]
    }
   ],
   "source": [
    "new_tuple = tuple(my_list)\n",
    "print(\"Converted to tuple:\", new_tuple)\n"
   ]
  },
  {
   "cell_type": "code",
   "execution_count": 10,
   "id": "3a3a4197-c7b9-4040-a5e8-1fa6822affec",
   "metadata": {},
   "outputs": [
    {
     "name": "stdout",
     "output_type": "stream",
     "text": [
      "Unpacked variables: 1 2 3 4 5\n"
     ]
    }
   ],
   "source": [
    "a, b, c, d, e = my_tuple\n",
    "print(\"Unpacked variables:\", a, b, c, d, e)\n"
   ]
  },
  {
   "cell_type": "code",
   "execution_count": 11,
   "id": "71eefd38-6426-4103-b804-14f1d7b09539",
   "metadata": {},
   "outputs": [
    {
     "name": "stdout",
     "output_type": "stream",
     "text": [
      "Tuple of even numbers: (2, 4, 6, 8, 10)\n"
     ]
    }
   ],
   "source": [
    "even_numbers = tuple(range(2, 11, 2))\n",
    "print(\"Tuple of even numbers:\", even_numbers)\n"
   ]
  },
  {
   "cell_type": "code",
   "execution_count": 12,
   "id": "75fbcc76-51e1-4ff3-865d-4015994842d4",
   "metadata": {},
   "outputs": [
    {
     "name": "stdout",
     "output_type": "stream",
     "text": [
      "Tuple of odd numbers: (1, 3, 5, 7, 9)\n"
     ]
    }
   ],
   "source": [
    "odd_numbers = tuple(range(1, 10, 2))\n",
    "print(\"Tuple of odd numbers:\", odd_numbers)\n"
   ]
  },
  {
   "cell_type": "code",
   "execution_count": 13,
   "id": "76c5efa5-a520-4303-abe2-3b4fde0a4a50",
   "metadata": {},
   "outputs": [
    {
     "name": "stdout",
     "output_type": "stream",
     "text": [
      "Concatenated tuple: (1, 2, 3, 4, 5, 6)\n"
     ]
    }
   ],
   "source": [
    "tuple1 = (1, 2, 3)\n",
    "tuple2 = (4, 5, 6)\n",
    "concatenated_tuple = tuple1 + tuple2\n",
    "print(\"Concatenated tuple:\", concatenated_tuple)\n"
   ]
  },
  {
   "cell_type": "code",
   "execution_count": 14,
   "id": "1bf79052-891f-45fb-804c-e196e68f15d8",
   "metadata": {},
   "outputs": [
    {
     "name": "stdout",
     "output_type": "stream",
     "text": [
      "Repeated tuple: (1, 2, 3, 4, 5, 1, 2, 3, 4, 5, 1, 2, 3, 4, 5)\n"
     ]
    }
   ],
   "source": [
    "repeated_tuple = my_tuple * 3\n",
    "print(\"Repeated tuple:\", repeated_tuple)\n"
   ]
  },
  {
   "cell_type": "code",
   "execution_count": 15,
   "id": "df3500b0-95d2-46ea-9fe4-7a334e6466fc",
   "metadata": {},
   "outputs": [
    {
     "name": "stdout",
     "output_type": "stream",
     "text": [
      "Is the tuple empty: True\n"
     ]
    }
   ],
   "source": [
    "empty_tuple = ()\n",
    "is_empty = not bool(empty_tuple)\n",
    "print(\"Is the tuple empty:\", is_empty)\n"
   ]
  },
  {
   "cell_type": "code",
   "execution_count": 16,
   "id": "191220ff-237f-4a2c-9ce8-7563d22d2d30",
   "metadata": {},
   "outputs": [
    {
     "name": "stdout",
     "output_type": "stream",
     "text": [
      "Nested tuple: (1, (2, 3), 4)\n"
     ]
    }
   ],
   "source": [
    "nested_tuple = (1, (2, 3), 4)\n",
    "print(\"Nested tuple:\", nested_tuple)\n"
   ]
  },
  {
   "cell_type": "code",
   "execution_count": 17,
   "id": "c70b91d5-ae75-4308-b9e7-2b7a0c5ef6a5",
   "metadata": {},
   "outputs": [
    {
     "name": "stdout",
     "output_type": "stream",
     "text": [
      "First element of nested tuple: 1\n"
     ]
    }
   ],
   "source": [
    "first_element_nested = nested_tuple[0]\n",
    "print(\"First element of nested tuple:\", first_element_nested)\n"
   ]
  },
  {
   "cell_type": "code",
   "execution_count": 18,
   "id": "3cb5bf62-9132-4440-b84e-dc695af5556a",
   "metadata": {},
   "outputs": [
    {
     "name": "stdout",
     "output_type": "stream",
     "text": [
      "Single-element tuple: (42,)\n"
     ]
    }
   ],
   "source": [
    "single_element_tuple = (42,)\n",
    "print(\"Single-element tuple:\", single_element_tuple)\n"
   ]
  },
  {
   "cell_type": "code",
   "execution_count": 19,
   "id": "c633ded9-6dc2-44ec-b201-c70c318eedae",
   "metadata": {},
   "outputs": [
    {
     "name": "stdout",
     "output_type": "stream",
     "text": [
      "Are the tuples equal: True\n"
     ]
    }
   ],
   "source": [
    "tuple1 = (1, 2, 3)\n",
    "tuple2 = (1, 2, 3)\n",
    "are_equal = tuple1 == tuple2\n",
    "print(\"Are the tuples equal:\", are_equal)\n"
   ]
  },
  {
   "cell_type": "code",
   "execution_count": 25,
   "id": "55cc3777-6829-493e-be8e-d61fa72acd46",
   "metadata": {},
   "outputs": [
    {
     "name": "stdout",
     "output_type": "stream",
     "text": [
      "Maximum value in the tuple: 5\n"
     ]
    }
   ],
   "source": [
    "my_tuple = (1, 2, 3, 4, 5)\n",
    "max_value = max(my_tuple)\n",
    "print(\"Maximum value in the tuple:\", max_value)\n"
   ]
  },
  {
   "cell_type": "code",
   "execution_count": 26,
   "id": "88dfb53c-59ab-4f1a-a037-5e0c00101ed7",
   "metadata": {},
   "outputs": [
    {
     "name": "stdout",
     "output_type": "stream",
     "text": [
      "Minimum value in the tuple: 1\n"
     ]
    }
   ],
   "source": [
    "my_tuple = (1, 2, 3, 4, 5)\n",
    "min_value = min(my_tuple)\n",
    "print(\"Minimum value in the tuple:\", min_value)\n"
   ]
  },
  {
   "cell_type": "code",
   "execution_count": 27,
   "id": "e4bf0380-c59d-45e4-98ca-86a26a2a38f5",
   "metadata": {},
   "outputs": [
    {
     "name": "stdout",
     "output_type": "stream",
     "text": [
      "Tuple of characters: ('H', 'e', 'l', 'l', 'o')\n"
     ]
    }
   ],
   "source": [
    "my_string = \"Hello\"\n",
    "char_tuple = tuple(my_string)\n",
    "print(\"Tuple of characters:\", char_tuple)\n"
   ]
  },
  {
   "cell_type": "code",
   "execution_count": 28,
   "id": "5b69cdea-7597-438d-aa98-d44fa597d408",
   "metadata": {},
   "outputs": [
    {
     "name": "stdout",
     "output_type": "stream",
     "text": [
      "String from tuple: Hello\n"
     ]
    }
   ],
   "source": [
    "char_tuple = ('H', 'e', 'l', 'l', 'o')\n",
    "string_from_tuple = ''.join(char_tuple)\n",
    "print(\"String from tuple:\", string_from_tuple)\n"
   ]
  },
  {
   "cell_type": "code",
   "execution_count": 29,
   "id": "4549544e-2866-4b7e-b1c1-2e4d2019bfc2",
   "metadata": {},
   "outputs": [
    {
     "name": "stdout",
     "output_type": "stream",
     "text": [
      "Mixed data type tuple: (1, 'two', 3.0, True)\n"
     ]
    }
   ],
   "source": [
    "mixed_tuple = (1, 'two', 3.0, True)\n",
    "print(\"Mixed data type tuple:\", mixed_tuple)\n"
   ]
  },
  {
   "cell_type": "code",
   "execution_count": 30,
   "id": "1f298837-cc15-4be9-a155-fef126c86661",
   "metadata": {},
   "outputs": [
    {
     "name": "stdout",
     "output_type": "stream",
     "text": [
      "Are the tuples identical: False\n"
     ]
    }
   ],
   "source": [
    "tuple1 = (1, 2, 3)\n",
    "tuple2 = (1, 2, 3)\n",
    "are_identical = tuple1 is tuple2\n",
    "print(\"Are the tuples identical:\", are_identical)\n"
   ]
  },
  {
   "cell_type": "code",
   "execution_count": 31,
   "id": "363a630c-a736-4016-a071-2767f5f91d09",
   "metadata": {},
   "outputs": [
    {
     "name": "stdout",
     "output_type": "stream",
     "text": [
      "Sorted tuple: (1, 2, 3, 4, 5)\n"
     ]
    }
   ],
   "source": [
    "sorted_tuple = tuple(sorted(my_tuple))\n",
    "print(\"Sorted tuple:\", sorted_tuple)\n"
   ]
  },
  {
   "cell_type": "code",
   "execution_count": 32,
   "id": "9e656ff5-9a73-4096-a8c6-0c8eaf3b8c08",
   "metadata": {},
   "outputs": [
    {
     "name": "stdout",
     "output_type": "stream",
     "text": [
      "Tuple of strings: ('1', '2', '3')\n"
     ]
    }
   ],
   "source": [
    "int_tuple = (1, 2, 3)\n",
    "str_tuple = tuple(map(str, int_tuple))\n",
    "print(\"Tuple of strings:\", str_tuple)\n"
   ]
  },
  {
   "cell_type": "code",
   "execution_count": 33,
   "id": "7c2ed104-c689-4d61-b5cb-da5c472269c2",
   "metadata": {},
   "outputs": [
    {
     "name": "stdout",
     "output_type": "stream",
     "text": [
      "Tuple of integers: (1, 2, 3)\n"
     ]
    }
   ],
   "source": [
    "str_tuple = ('1', '2', '3')\n",
    "int_tuple = tuple(map(int, str_tuple))\n",
    "print(\"Tuple of integers:\", int_tuple)\n"
   ]
  },
  {
   "cell_type": "code",
   "execution_count": 34,
   "id": "fd3ef654-0a0b-4506-8f83-cb78d2938ba8",
   "metadata": {},
   "outputs": [
    {
     "name": "stdout",
     "output_type": "stream",
     "text": [
      "Merged tuple: (1, 2, 3, 4, 5, 6)\n"
     ]
    }
   ],
   "source": [
    "tuple1 = (1, 2, 3)\n",
    "tuple2 = (4, 5, 6)\n",
    "merged_tuple = tuple1 + tuple2\n",
    "print(\"Merged tuple:\", merged_tuple)\n"
   ]
  },
  {
   "cell_type": "code",
   "execution_count": 35,
   "id": "93dfb74c-00ca-495e-b22a-2e1dff906841",
   "metadata": {},
   "outputs": [
    {
     "name": "stdout",
     "output_type": "stream",
     "text": [
      "Flattened tuple: (1, 2, 3, 4, 5, 6)\n"
     ]
    }
   ],
   "source": [
    "nested_tuple = ((1, 2), (3, 4), (5, 6))\n",
    "flattened_tuple = tuple(item for sublist in nested_tuple for item in sublist)\n",
    "print(\"Flattened tuple:\", flattened_tuple)\n"
   ]
  },
  {
   "cell_type": "code",
   "execution_count": 36,
   "id": "cd9b3bbe-deb3-4333-8803-a4a2a823a969",
   "metadata": {},
   "outputs": [
    {
     "name": "stdout",
     "output_type": "stream",
     "text": [
      "Tuple of prime numbers: (2, 3, 5, 7, 11)\n"
     ]
    }
   ],
   "source": [
    "prime_numbers = (2, 3, 5, 7, 11)\n",
    "print(\"Tuple of prime numbers:\", prime_numbers)\n"
   ]
  },
  {
   "cell_type": "code",
   "execution_count": 37,
   "id": "a6cfe663-63de-433a-ac6a-e9f3572bd5e7",
   "metadata": {},
   "outputs": [
    {
     "name": "stdout",
     "output_type": "stream",
     "text": [
      "Is the tuple a palindrome: False\n"
     ]
    }
   ],
   "source": [
    "is_palindrome = my_tuple == my_tuple[::-1]\n",
    "print(\"Is the tuple a palindrome:\", is_palindrome)\n"
   ]
  },
  {
   "cell_type": "code",
   "execution_count": 38,
   "id": "f3c9da84-d51f-4bce-ae58-2d8411dae67f",
   "metadata": {},
   "outputs": [
    {
     "name": "stdout",
     "output_type": "stream",
     "text": [
      "Tuple of squares: (1, 4, 9, 16, 25)\n"
     ]
    }
   ],
   "source": [
    "squares_tuple = tuple(x**2 for x in range(1, 6))\n",
    "print(\"Tuple of squares:\", squares_tuple)\n"
   ]
  },
  {
   "cell_type": "code",
   "execution_count": 39,
   "id": "fbe12b35-cc32-4c9b-864e-7b891777977e",
   "metadata": {},
   "outputs": [
    {
     "name": "stdout",
     "output_type": "stream",
     "text": [
      "Tuple of odd numbers: (1, 3, 5)\n"
     ]
    }
   ],
   "source": [
    "odd_numbers = tuple(x for x in my_tuple if x % 2 != 0)\n",
    "print(\"Tuple of odd numbers:\", odd_numbers)\n"
   ]
  },
  {
   "cell_type": "code",
   "execution_count": 40,
   "id": "e43cfbc1-441e-48dc-b973-b602a3e9aa63",
   "metadata": {},
   "outputs": [
    {
     "name": "stdout",
     "output_type": "stream",
     "text": [
      "Multiplied tuple: (2, 4, 6, 8, 10)\n"
     ]
    }
   ],
   "source": [
    "multiplied_tuple = tuple(x * 2 for x in my_tuple)\n",
    "print(\"Multiplied tuple:\", multiplied_tuple)\n"
   ]
  },
  {
   "cell_type": "code",
   "execution_count": 41,
   "id": "d9af701b-d75e-49c0-86b2-f1bbdc64599e",
   "metadata": {},
   "outputs": [
    {
     "name": "stdout",
     "output_type": "stream",
     "text": [
      "Tuple of random numbers: (87, 65, 88, 51, 69)\n"
     ]
    }
   ],
   "source": [
    "import random\n",
    "\n",
    "random_numbers = tuple(random.randint(1, 100) for _ in range(5))\n",
    "print(\"Tuple of random numbers:\", random_numbers)\n"
   ]
  },
  {
   "cell_type": "code",
   "execution_count": 42,
   "id": "ba75313c-c399-4134-80e4-59462acec7c4",
   "metadata": {},
   "outputs": [
    {
     "name": "stdout",
     "output_type": "stream",
     "text": [
      "Is the tuple sorted: True\n"
     ]
    }
   ],
   "source": [
    "is_sorted = all(my_tuple[i] <= my_tuple[i+1] for i in range(len(my_tuple)-1))\n",
    "print(\"Is the tuple sorted:\", is_sorted)\n"
   ]
  },
  {
   "cell_type": "code",
   "execution_count": 43,
   "id": "fbcdc92d-c3c6-4f5e-9662-2bed9c9335df",
   "metadata": {},
   "outputs": [
    {
     "name": "stdout",
     "output_type": "stream",
     "text": [
      "Left rotated tuple by 2 positions: (3, 4, 5, 1, 2)\n"
     ]
    }
   ],
   "source": [
    "n = 2  # Change this to the desired number of positions\n",
    "left_rotated_tuple = my_tuple[n:] + my_tuple[:n]\n",
    "print(f\"Left rotated tuple by {n} positions:\", left_rotated_tuple)\n"
   ]
  },
  {
   "cell_type": "code",
   "execution_count": 44,
   "id": "976e2b77-f72f-4251-ac70-ab75b7eb27fd",
   "metadata": {},
   "outputs": [
    {
     "name": "stdout",
     "output_type": "stream",
     "text": [
      "Right rotated tuple by 2 positions: (4, 5, 1, 2, 3)\n"
     ]
    }
   ],
   "source": [
    "n = 2  # Change this to the desired number of positions\n",
    "right_rotated_tuple = my_tuple[-n:] + my_tuple[:-n]\n",
    "print(f\"Right rotated tuple by {n} positions:\", right_rotated_tuple)\n"
   ]
  },
  {
   "cell_type": "code",
   "execution_count": 45,
   "id": "22a99502-4b27-4d89-9273-d2369922a2ee",
   "metadata": {},
   "outputs": [
    {
     "name": "stdout",
     "output_type": "stream",
     "text": [
      "Tuple of Fibonacci numbers: (0, 1, 1, 2, 3)\n"
     ]
    }
   ],
   "source": [
    "def generate_fibonacci(n):\n",
    "    fib_sequence = [0, 1]\n",
    "    while len(fib_sequence) < n:\n",
    "        fib_sequence.append(fib_sequence[-1] + fib_sequence[-2])\n",
    "    return tuple(fib_sequence)\n",
    "\n",
    "fibonacci_tuple = generate_fibonacci(5)\n",
    "print(\"Tuple of Fibonacci numbers:\", fibonacci_tuple)\n"
   ]
  },
  {
   "cell_type": "code",
   "execution_count": 47,
   "id": "f1cc06df-4cec-4bdf-ab92-0a141ea623fc",
   "metadata": {},
   "outputs": [
    {
     "name": "stdin",
     "output_type": "stream",
     "text": [
      "Enter space-separated numbers:  24 35\n"
     ]
    },
    {
     "name": "stdout",
     "output_type": "stream",
     "text": [
      "Tuple from user input: (24, 35)\n"
     ]
    }
   ],
   "source": [
    "user_input_tuple = tuple(map(int, input(\"Enter space-separated numbers: \").split()))\n",
    "print(\"Tuple from user input:\", user_input_tuple)\n"
   ]
  },
  {
   "cell_type": "code",
   "execution_count": 48,
   "id": "23fbcfdc-b147-4fb9-b7a9-d03e03782531",
   "metadata": {},
   "outputs": [
    {
     "name": "stdout",
     "output_type": "stream",
     "text": [
      "Tuple after swapping elements: (1, 4, 3, 2, 5)\n"
     ]
    }
   ],
   "source": [
    "index1, index2 = 1, 3  # Change these indices to the elements you want to swap\n",
    "swapped_tuple = list(my_tuple)\n",
    "swapped_tuple[index1], swapped_tuple[index2] = swapped_tuple[index2], swapped_tuple[index1]\n",
    "swapped_tuple = tuple(swapped_tuple)\n",
    "print(\"Tuple after swapping elements:\", swapped_tuple)\n"
   ]
  },
  {
   "cell_type": "code",
   "execution_count": 49,
   "id": "40aec61f-f9bb-4729-9b69-269ab4c40ddf",
   "metadata": {},
   "outputs": [
    {
     "name": "stdout",
     "output_type": "stream",
     "text": [
      "Reversed tuple: (5, 4, 3, 2, 1)\n"
     ]
    }
   ],
   "source": [
    "reversed_tuple = my_tuple[::-1]\n",
    "print(\"Reversed tuple:\", reversed_tuple)\n"
   ]
  },
  {
   "cell_type": "code",
   "execution_count": 50,
   "id": "81545924-7de3-4347-b4a6-3d25fe7a2a1e",
   "metadata": {},
   "outputs": [
    {
     "name": "stdout",
     "output_type": "stream",
     "text": [
      "Tuple of the first 4 powers of 2: (1, 2, 4, 8)\n"
     ]
    }
   ],
   "source": [
    "n = 4  # Change this to the desired number of powers\n",
    "powers_of_2 = tuple(2 ** i for i in range(n))\n",
    "print(f\"Tuple of the first {n} powers of 2:\", powers_of_2)\n"
   ]
  },
  {
   "cell_type": "code",
   "execution_count": 51,
   "id": "a6eddb70-16ea-463d-a491-459a3d6b4e7b",
   "metadata": {},
   "outputs": [
    {
     "name": "stdout",
     "output_type": "stream",
     "text": [
      "Longest string in the tuple: strawberry\n"
     ]
    }
   ],
   "source": [
    "string_tuple = ('apple', 'banana', 'kiwi', 'strawberry')\n",
    "longest_string = max(string_tuple, key=len)\n",
    "print(\"Longest string in the tuple:\", longest_string)\n"
   ]
  },
  {
   "cell_type": "code",
   "execution_count": 52,
   "id": "100f4c83-abb9-4a03-8c7c-e6052761b231",
   "metadata": {},
   "outputs": [
    {
     "name": "stdout",
     "output_type": "stream",
     "text": [
      "Shortest string in the tuple: kiwi\n"
     ]
    }
   ],
   "source": [
    "shortest_string = min(string_tuple, key=len)\n",
    "print(\"Shortest string in the tuple:\", shortest_string)\n"
   ]
  },
  {
   "cell_type": "code",
   "execution_count": 53,
   "id": "afd48f8c-0f13-4f8a-ba3a-d93e1fcf6018",
   "metadata": {},
   "outputs": [
    {
     "name": "stdout",
     "output_type": "stream",
     "text": [
      "Tuple of the first 5 triangular numbers: (1, 3, 6, 10, 15)\n"
     ]
    }
   ],
   "source": [
    "def triangular_number(n):\n",
    "    return n * (n + 1) // 2\n",
    "\n",
    "n = 5  # Change this to the desired number of triangular numbers\n",
    "triangular_numbers = tuple(triangular_number(i) for i in range(1, n+1))\n",
    "print(f\"Tuple of the first {n} triangular numbers:\", triangular_numbers)\n"
   ]
  },
  {
   "cell_type": "code",
   "execution_count": 54,
   "id": "ec213f6d-0258-4334-9ca6-595a9c636400",
   "metadata": {},
   "outputs": [
    {
     "name": "stdout",
     "output_type": "stream",
     "text": [
      "Does the tuple contain the subsequence: True\n"
     ]
    }
   ],
   "source": [
    "subsequence_tuple = (3, 4)\n",
    "contains_subsequence = any(subsequence_tuple == my_tuple[i:i+len(subsequence_tuple)] for i in range(len(my_tuple) - len(subsequence_tuple) + 1))\n",
    "print(\"Does the tuple contain the subsequence:\", contains_subsequence)\n"
   ]
  },
  {
   "cell_type": "code",
   "execution_count": 55,
   "id": "223a664a-c25e-4e29-b556-da5eaa8fd267",
   "metadata": {},
   "outputs": [
    {
     "name": "stdout",
     "output_type": "stream",
     "text": [
      "Tuple of alternating 1s and 0s of length 6: (1, 0, 1, 0, 1, 0)\n"
     ]
    }
   ],
   "source": [
    "n = 6  # Change this to the desired length\n",
    "alternating_tuple = tuple(1 if i % 2 == 0 else 0 for i in range(n))\n",
    "print(f\"Tuple of alternating 1s and 0s of length {n}:\", alternating_tuple)\n"
   ]
  },
  {
   "cell_type": "code",
   "execution_count": 57,
   "id": "d9393dcb-9748-4634-968e-1188535b853d",
   "metadata": {},
   "outputs": [
    {
     "name": "stdout",
     "output_type": "stream",
     "text": [
      "Set after adding element: {1, 2, 3, 4, 5, 6}\n"
     ]
    }
   ],
   "source": [
    "my_set = {1, 2, 3, 4, 5}\n",
    "my_set.add(6)\n",
    "print(\"Set after adding element:\", my_set)\n",
    "\n"
   ]
  },
  {
   "cell_type": "code",
   "execution_count": 58,
   "id": "6b5cfd16-4037-4a87-bf1e-d062ce31d004",
   "metadata": {},
   "outputs": [
    {
     "name": "stdout",
     "output_type": "stream",
     "text": [
      "Set after removing element: {1, 2, 4, 5, 6}\n"
     ]
    }
   ],
   "source": [
    "my_set.remove(3)\n",
    "print(\"Set after removing element:\", my_set)\n"
   ]
  },
  {
   "cell_type": "code",
   "execution_count": 59,
   "id": "9661c8f0-91a3-4695-bfc3-4a4e376e0017",
   "metadata": {},
   "outputs": [
    {
     "name": "stdout",
     "output_type": "stream",
     "text": [
      "4 exists in the set: True\n"
     ]
    }
   ],
   "source": [
    "element_to_check = 4\n",
    "exists_in_set = element_to_check in my_set\n",
    "print(element_to_check, \"exists in the set:\", exists_in_set)\n"
   ]
  },
  {
   "cell_type": "code",
   "execution_count": 60,
   "id": "10eb4fe7-7ac7-4801-9263-131e983c3076",
   "metadata": {},
   "outputs": [
    {
     "name": "stdout",
     "output_type": "stream",
     "text": [
      "Length of the set: 5\n"
     ]
    }
   ],
   "source": [
    "set_length = sum(1 for _ in my_set)\n",
    "print(\"Length of the set:\", set_length)\n"
   ]
  },
  {
   "cell_type": "code",
   "execution_count": 72,
   "id": "bf0a52bf-1f0c-408a-8573-af9de44d2cc8",
   "metadata": {},
   "outputs": [
    {
     "name": "stdout",
     "output_type": "stream",
     "text": [
      "Set after clearing: set()\n"
     ]
    }
   ],
   "source": [
    "my_set = {1, 2, 3, 4, 5}\n",
    "my_set.clear()\n",
    "print(\"Set after clearing:\", my_set)\n"
   ]
  },
  {
   "cell_type": "code",
   "execution_count": 62,
   "id": "f9794409-3acb-4ea9-9a5d-54a97254f7eb",
   "metadata": {},
   "outputs": [
    {
     "name": "stdout",
     "output_type": "stream",
     "text": [
      "Set of even numbers: {2, 4, 6, 8, 10}\n"
     ]
    }
   ],
   "source": [
    "even_numbers_set = {x for x in range(2, 11, 2)}\n",
    "print(\"Set of even numbers:\", even_numbers_set)\n"
   ]
  },
  {
   "cell_type": "code",
   "execution_count": 63,
   "id": "3dd370e8-da47-4bfc-9f2e-0432363ead4e",
   "metadata": {},
   "outputs": [
    {
     "name": "stdout",
     "output_type": "stream",
     "text": [
      "Set of odd numbers: {1, 3, 5, 7, 9}\n"
     ]
    }
   ],
   "source": [
    "odd_numbers_set = {x for x in range(1, 10, 2)}\n",
    "print(\"Set of odd numbers:\", odd_numbers_set)\n"
   ]
  },
  {
   "cell_type": "code",
   "execution_count": 64,
   "id": "d2120bd4-c298-451d-86c4-309db7900b05",
   "metadata": {},
   "outputs": [
    {
     "name": "stdout",
     "output_type": "stream",
     "text": [
      "Union of two sets: {1, 2, 3, 4, 5}\n"
     ]
    }
   ],
   "source": [
    "set1 = {1, 2, 3}\n",
    "set2 = {3, 4, 5}\n",
    "union_set = set1.union(set2)\n",
    "print(\"Union of two sets:\", union_set)\n"
   ]
  },
  {
   "cell_type": "code",
   "execution_count": 65,
   "id": "85ef5100-f81d-4407-985a-d0c38186cf72",
   "metadata": {},
   "outputs": [
    {
     "name": "stdout",
     "output_type": "stream",
     "text": [
      "Intersection of two sets: {3}\n"
     ]
    }
   ],
   "source": [
    "intersection_set = set1.intersection(set2)\n",
    "print(\"Intersection of two sets:\", intersection_set)\n"
   ]
  },
  {
   "cell_type": "code",
   "execution_count": 66,
   "id": "2f2967b2-18d5-492d-b505-987f9751fcb7",
   "metadata": {},
   "outputs": [
    {
     "name": "stdout",
     "output_type": "stream",
     "text": [
      "Difference between two sets: {1, 2}\n"
     ]
    }
   ],
   "source": [
    "difference_set = set1.difference(set2)\n",
    "print(\"Difference between two sets:\", difference_set)\n"
   ]
  },
  {
   "cell_type": "code",
   "execution_count": 67,
   "id": "7c18408b-d672-4d60-a73c-f6c4205ea458",
   "metadata": {},
   "outputs": [
    {
     "name": "stdout",
     "output_type": "stream",
     "text": [
      "Is set1 a subset of set2: False\n"
     ]
    }
   ],
   "source": [
    "subset_check = set1.issubset(set2)\n",
    "print(\"Is set1 a subset of set2:\", subset_check)\n"
   ]
  },
  {
   "cell_type": "code",
   "execution_count": 68,
   "id": "b2f411b2-99ef-4731-be23-fdc2f8b3ee3c",
   "metadata": {},
   "outputs": [
    {
     "name": "stdout",
     "output_type": "stream",
     "text": [
      "Is set1 a superset of set2: False\n"
     ]
    }
   ],
   "source": [
    "superset_check = set1.issuperset(set2)\n",
    "print(\"Is set1 a superset of set2:\", superset_check)\n"
   ]
  },
  {
   "cell_type": "code",
   "execution_count": 69,
   "id": "270da8d1-e436-47f9-9818-8baf65b9ade2",
   "metadata": {},
   "outputs": [
    {
     "name": "stdout",
     "output_type": "stream",
     "text": [
      "Set from list: {1, 2, 3, 4, 5}\n"
     ]
    }
   ],
   "source": [
    "my_list = [1, 2, 3, 4, 5]\n",
    "set_from_list = set(my_list)\n",
    "print(\"Set from list:\", set_from_list)\n"
   ]
  },
  {
   "cell_type": "code",
   "execution_count": 70,
   "id": "34acce8a-9da3-4ddd-8fd6-95833397a192",
   "metadata": {},
   "outputs": [
    {
     "name": "stdout",
     "output_type": "stream",
     "text": [
      "List from set: []\n"
     ]
    }
   ],
   "source": [
    "list_from_set = list(my_set)\n",
    "print(\"List from set:\", list_from_set)\n"
   ]
  },
  {
   "cell_type": "code",
   "execution_count": 76,
   "id": "06281217-0be4-473d-ae62-73d97a74d933",
   "metadata": {},
   "outputs": [
    {
     "name": "stdout",
     "output_type": "stream",
     "text": [
      "Popped element: 1\n"
     ]
    }
   ],
   "source": [
    "popped_element = my_set.pop()\n",
    "print(\"Popped element:\", popped_element)\n"
   ]
  },
  {
   "cell_type": "code",
   "execution_count": 77,
   "id": "83664388-baee-455c-bf69-684885829841",
   "metadata": {},
   "outputs": [
    {
     "name": "stdout",
     "output_type": "stream",
     "text": [
      "Do the sets have no elements in common: True\n"
     ]
    }
   ],
   "source": [
    "set1 = {1, 2, 3}\n",
    "set2 = {4, 5, 6}\n",
    "no_common_elements = set1.isdisjoint(set2)\n",
    "print(\"Do the sets have no elements in common:\", no_common_elements)\n"
   ]
  },
  {
   "cell_type": "code",
   "execution_count": 78,
   "id": "f2e798f6-262f-40ef-96b2-5f164697c110",
   "metadata": {},
   "outputs": [
    {
     "name": "stdout",
     "output_type": "stream",
     "text": [
      "Symmetric difference between two sets: {1, 2, 3, 4, 5, 6}\n"
     ]
    }
   ],
   "source": [
    "symmetric_difference_set = set1.symmetric_difference(set2)\n",
    "print(\"Symmetric difference between two sets:\", symmetric_difference_set)\n"
   ]
  },
  {
   "cell_type": "code",
   "execution_count": 79,
   "id": "b6434aab-48cb-4070-b3b6-a3e84062f39e",
   "metadata": {},
   "outputs": [
    {
     "name": "stdout",
     "output_type": "stream",
     "text": [
      "Set1 after updating with elements from set2: {1, 2, 3, 4, 5, 6}\n"
     ]
    }
   ],
   "source": [
    "set1.update(set2)\n",
    "print(\"Set1 after updating with elements from set2:\", set1)\n"
   ]
  },
  {
   "cell_type": "code",
   "execution_count": 80,
   "id": "67bb360f-7e3c-41b6-adcd-6123523c9645",
   "metadata": {},
   "outputs": [
    {
     "name": "stdout",
     "output_type": "stream",
     "text": [
      "Set of prime numbers: {2, 3, 5, 7, 11}\n"
     ]
    }
   ],
   "source": [
    "prime_numbers_set = {2, 3, 5, 7, 11}\n",
    "print(\"Set of prime numbers:\", prime_numbers_set)\n"
   ]
  },
  {
   "cell_type": "code",
   "execution_count": 81,
   "id": "0bc3001c-bc9c-40c8-952d-ffacca2e8f26",
   "metadata": {},
   "outputs": [
    {
     "name": "stdout",
     "output_type": "stream",
     "text": [
      "Are the sets identical: False\n"
     ]
    }
   ],
   "source": [
    "set3 = {1, 2, 3}\n",
    "are_identical = set1 == set3\n",
    "print(\"Are the sets identical:\", are_identical)\n"
   ]
  },
  {
   "cell_type": "code",
   "execution_count": 82,
   "id": "17907bd3-c559-4a27-9aca-04f0a200687b",
   "metadata": {},
   "outputs": [
    {
     "name": "stdout",
     "output_type": "stream",
     "text": [
      "Frozen set: frozenset({4, 5})\n"
     ]
    }
   ],
   "source": [
    "frozen_set = frozenset(my_set)\n",
    "print(\"Frozen set:\", frozen_set)\n"
   ]
  },
  {
   "cell_type": "code",
   "execution_count": 83,
   "id": "55d45fe8-06c5-443e-b465-e15faf55e1f9",
   "metadata": {},
   "outputs": [
    {
     "name": "stdout",
     "output_type": "stream",
     "text": [
      "Are the sets disjoint: False\n"
     ]
    }
   ],
   "source": [
    "disjoint_check = my_set.isdisjoint(set2)\n",
    "print(\"Are the sets disjoint:\", disjoint_check)\n"
   ]
  },
  {
   "cell_type": "code",
   "execution_count": 84,
   "id": "08015d30-54b7-420e-954f-b3db97f41dc6",
   "metadata": {},
   "outputs": [
    {
     "name": "stdout",
     "output_type": "stream",
     "text": [
      "Set of squares: {1, 4, 9, 16, 25}\n"
     ]
    }
   ],
   "source": [
    "squares_set = {x**2 for x in range(1, 6)}\n",
    "print(\"Set of squares:\", squares_set)\n"
   ]
  },
  {
   "cell_type": "code",
   "execution_count": 85,
   "id": "1d62ca8e-97e8-48cb-8bac-d0527e377d56",
   "metadata": {},
   "outputs": [
    {
     "name": "stdout",
     "output_type": "stream",
     "text": [
      "Set of odd numbers: {4}\n"
     ]
    }
   ],
   "source": [
    "even_numbers_set = {x for x in my_set if x % 2 == 0}\n",
    "print(\"Set of odd numbers:\", even_numbers_set)\n"
   ]
  },
  {
   "cell_type": "code",
   "execution_count": 86,
   "id": "d3d495ef-1633-4564-bbcf-f1560afb04f6",
   "metadata": {},
   "outputs": [
    {
     "name": "stdout",
     "output_type": "stream",
     "text": [
      "Multiplied set: {8, 10}\n"
     ]
    }
   ],
   "source": [
    "multiplied_set = {x * 2 for x in my_set}\n",
    "print(\"Multiplied set:\", multiplied_set)\n"
   ]
  },
  {
   "cell_type": "code",
   "execution_count": 87,
   "id": "19b90586-1774-42b2-a11a-85f01333bc73",
   "metadata": {},
   "outputs": [
    {
     "name": "stdout",
     "output_type": "stream",
     "text": [
      "Set of random numbers: {33, 11, 12, 56, 30}\n"
     ]
    }
   ],
   "source": [
    "import random\n",
    "\n",
    "random_set = {random.randint(1, 100) for _ in range(5)}\n",
    "print(\"Set of random numbers:\", random_set)\n"
   ]
  },
  {
   "cell_type": "code",
   "execution_count": 88,
   "id": "7a84ec70-c825-45e2-bbed-76f02d7264e8",
   "metadata": {},
   "outputs": [
    {
     "name": "stdout",
     "output_type": "stream",
     "text": [
      "Is the set empty: False\n"
     ]
    }
   ],
   "source": [
    "is_empty = not bool(my_set)\n",
    "print(\"Is the set empty:\", is_empty)\n"
   ]
  },
  {
   "cell_type": "code",
   "execution_count": 89,
   "id": "17885417-71a6-4147-8897-7a0bc3370e07",
   "metadata": {},
   "outputs": [
    {
     "name": "stdout",
     "output_type": "stream",
     "text": [
      "Nested set: {frozenset({3, 4}), frozenset({1, 2})}\n"
     ]
    }
   ],
   "source": [
    "nested_set = {frozenset({1, 2}), frozenset({3, 4})}\n",
    "print(\"Nested set:\", nested_set)\n"
   ]
  },
  {
   "cell_type": "code",
   "execution_count": 90,
   "id": "2f3aeb3c-c0aa-476e-85da-3cb586559ac6",
   "metadata": {},
   "outputs": [
    {
     "name": "stdout",
     "output_type": "stream",
     "text": [
      "Set after discarding element: {4, 5}\n"
     ]
    }
   ],
   "source": [
    "element_to_remove = 3\n",
    "my_set.discard(element_to_remove)\n",
    "print(\"Set after discarding element:\", my_set)\n"
   ]
  },
  {
   "cell_type": "code",
   "execution_count": 91,
   "id": "e07cda51-e064-4f62-a21d-3d953d47caf5",
   "metadata": {},
   "outputs": [
    {
     "name": "stdout",
     "output_type": "stream",
     "text": [
      "Are the sets equal: False\n"
     ]
    }
   ],
   "source": [
    "set1 = {1, 2, 3}\n",
    "set2 = {3, 4, 5}\n",
    "are_equal = set1 == set2\n",
    "print(\"Are the sets equal:\", are_equal)\n"
   ]
  },
  {
   "cell_type": "code",
   "execution_count": 92,
   "id": "b44096df-66e5-46da-9ca1-2fd36093d176",
   "metadata": {},
   "outputs": [
    {
     "name": "stdout",
     "output_type": "stream",
     "text": [
      "Set from string: {'e', 'o', 'l', 'h'}\n"
     ]
    }
   ],
   "source": [
    "my_string = \"hello\"\n",
    "string_set = set(my_string)\n",
    "print(\"Set from string:\", string_set)\n"
   ]
  },
  {
   "cell_type": "code",
   "execution_count": 93,
   "id": "cd4d5383-b38c-463e-a549-990863161aa9",
   "metadata": {},
   "outputs": [
    {
     "name": "stdout",
     "output_type": "stream",
     "text": [
      "Set of integers: {1, 2, 3}\n"
     ]
    }
   ],
   "source": [
    "string_set = {'1', '2', '3'}\n",
    "int_set = {int(x) for x in string_set}\n",
    "print(\"Set of integers:\", int_set)\n"
   ]
  },
  {
   "cell_type": "code",
   "execution_count": 94,
   "id": "c62918a1-c8ec-4582-995e-d99e6098af34",
   "metadata": {},
   "outputs": [
    {
     "name": "stdout",
     "output_type": "stream",
     "text": [
      "Set of strings: {'1', '2', '3'}\n"
     ]
    }
   ],
   "source": [
    "int_set = {1, 2, 3}\n",
    "string_set = {str(x) for x in int_set}\n",
    "print(\"Set of strings:\", string_set)\n"
   ]
  },
  {
   "cell_type": "code",
   "execution_count": 95,
   "id": "90e27874-8018-4894-a62e-7372c4dd0ea0",
   "metadata": {},
   "outputs": [
    {
     "name": "stdout",
     "output_type": "stream",
     "text": [
      "Set from tuple: {1, 2, 3}\n"
     ]
    }
   ],
   "source": [
    "my_tuple = (1, 2, 3)\n",
    "tuple_set = set(my_tuple)\n",
    "print(\"Set from tuple:\", tuple_set)\n"
   ]
  },
  {
   "cell_type": "code",
   "execution_count": 96,
   "id": "e2849af9-455d-448f-b58c-ccd31957b463",
   "metadata": {},
   "outputs": [
    {
     "name": "stdout",
     "output_type": "stream",
     "text": [
      "Tuple from set: (4, 5)\n"
     ]
    }
   ],
   "source": [
    "set_to_tuple = tuple(my_set)\n",
    "print(\"Tuple from set:\", set_to_tuple)\n"
   ]
  },
  {
   "cell_type": "code",
   "execution_count": 97,
   "id": "7e0cb9dc-b8e2-4753-ad00-2de5ff3e78fc",
   "metadata": {},
   "outputs": [
    {
     "name": "stdout",
     "output_type": "stream",
     "text": [
      "Maximum value in the set: 5\n"
     ]
    }
   ],
   "source": [
    "max_value = max(my_set)\n",
    "print(\"Maximum value in the set:\", max_value)\n"
   ]
  },
  {
   "cell_type": "code",
   "execution_count": 98,
   "id": "18416496-4d97-4bfb-940b-6c9b4423a82d",
   "metadata": {},
   "outputs": [
    {
     "name": "stdout",
     "output_type": "stream",
     "text": [
      "Minimum value in the set: 4\n"
     ]
    }
   ],
   "source": [
    "min_value = min(my_set)\n",
    "print(\"Minimum value in the set:\", min_value)\n"
   ]
  },
  {
   "cell_type": "code",
   "execution_count": 99,
   "id": "7936ad45-4035-4a34-a690-89c6fb29232d",
   "metadata": {},
   "outputs": [
    {
     "name": "stdin",
     "output_type": "stream",
     "text": [
      "Enter space-separated numbers:  23 56 78\n"
     ]
    },
    {
     "name": "stdout",
     "output_type": "stream",
     "text": [
      "Set from user input: {56, 78, 23}\n"
     ]
    }
   ],
   "source": [
    "user_input_set = set(map(int, input(\"Enter space-separated numbers: \").split()))\n",
    "print(\"Set from user input:\", user_input_set)\n"
   ]
  },
  {
   "cell_type": "code",
   "execution_count": 100,
   "id": "b02b82ae-f208-4267-b3bb-85727178d1d9",
   "metadata": {},
   "outputs": [
    {
     "name": "stdout",
     "output_type": "stream",
     "text": [
      "Is the intersection empty: False\n"
     ]
    }
   ],
   "source": [
    "intersection_empty = set1.isdisjoint(set2)\n",
    "print(\"Is the intersection empty:\", intersection_empty)\n"
   ]
  },
  {
   "cell_type": "code",
   "execution_count": 101,
   "id": "50e20778-421b-480a-90e8-a906e4d63085",
   "metadata": {},
   "outputs": [
    {
     "name": "stdout",
     "output_type": "stream",
     "text": [
      "Is the intersection empty: False\n"
     ]
    }
   ],
   "source": [
    "intersection_empty = set1.isdisjoint(set2)\n",
    "print(\"Is the intersection empty:\", intersection_empty)\n"
   ]
  },
  {
   "cell_type": "code",
   "execution_count": 102,
   "id": "b8cb2676-0894-4722-919f-788235b96240",
   "metadata": {},
   "outputs": [
    {
     "name": "stdout",
     "output_type": "stream",
     "text": [
      "Set of Fibonacci numbers: {0, 1, 2, 3}\n"
     ]
    }
   ],
   "source": [
    "def generate_fibonacci(n):\n",
    "    fib_sequence = [0, 1]\n",
    "    while len(fib_sequence) < n:\n",
    "        fib_sequence.append(fib_sequence[-1] + fib_sequence[-2])\n",
    "    return set(fib_sequence)\n",
    "\n",
    "fibonacci_set = generate_fibonacci(5)\n",
    "print(\"Set of Fibonacci numbers:\", fibonacci_set)\n"
   ]
  },
  {
   "cell_type": "code",
   "execution_count": 103,
   "id": "896e43d0-d474-41ac-98b5-d820f39d0063",
   "metadata": {},
   "outputs": [
    {
     "name": "stdout",
     "output_type": "stream",
     "text": [
      "List with duplicates removed: [1, 2, 3, 4, 5]\n"
     ]
    }
   ],
   "source": [
    "my_list = [1, 2, 2, 3, 4, 4, 5]\n",
    "unique_list = list(set(my_list))\n",
    "print(\"List with duplicates removed:\", unique_list)\n"
   ]
  },
  {
   "cell_type": "code",
   "execution_count": 104,
   "id": "5e3c8e81-4acc-401d-b7ae-ccac24c41d7b",
   "metadata": {},
   "outputs": [
    {
     "name": "stdout",
     "output_type": "stream",
     "text": [
      "Do the sets have the same elements: True\n"
     ]
    }
   ],
   "source": [
    "set3 = {3, 2, 1, 3, 2, 1}\n",
    "have_same_elements = set1 == set3\n",
    "print(\"Do the sets have the same elements:\", have_same_elements)\n"
   ]
  },
  {
   "cell_type": "code",
   "execution_count": 105,
   "id": "025ca19a-6204-480c-be84-a3d2747c8d76",
   "metadata": {},
   "outputs": [
    {
     "name": "stdout",
     "output_type": "stream",
     "text": [
      "Set of the first 4 powers of 2: {8, 1, 2, 4}\n"
     ]
    }
   ],
   "source": [
    "n = 4  # Change this to the desired number of powers\n",
    "powers_of_2_set = {2 ** i for i in range(n)}\n",
    "print(f\"Set of the first {n} powers of 2:\", powers_of_2_set)\n"
   ]
  },
  {
   "cell_type": "code",
   "execution_count": 106,
   "id": "1e2831ae-26e5-41f0-959e-f6627722acdb",
   "metadata": {},
   "outputs": [
    {
     "name": "stdout",
     "output_type": "stream",
     "text": [
      "Common elements between set and list: {1, 2, 3}\n"
     ]
    }
   ],
   "source": [
    "common_elements = set1.intersection(set(my_list))\n",
    "print(\"Common elements between set and list:\", common_elements)\n"
   ]
  },
  {
   "cell_type": "code",
   "execution_count": 107,
   "id": "6780e097-45e7-4431-a127-7b24e4d0d2ef",
   "metadata": {},
   "outputs": [
    {
     "name": "stdout",
     "output_type": "stream",
     "text": [
      "Set of the first 5 triangular numbers: {1, 3, 6, 10, 15}\n"
     ]
    }
   ],
   "source": [
    "def triangular_number(n):\n",
    "    return n * (n + 1) // 2\n",
    "\n",
    "n = 5  # Change this to the desired number of triangular numbers\n",
    "triangular_numbers_set = {triangular_number(i) for i in range(1, n+1)}\n",
    "print(f\"Set of the first {n} triangular numbers:\", triangular_numbers_set)\n"
   ]
  },
  {
   "cell_type": "code",
   "execution_count": 108,
   "id": "a850a327-c69d-4d34-9c96-0caacc0d5be8",
   "metadata": {},
   "outputs": [
    {
     "name": "stdout",
     "output_type": "stream",
     "text": [
      "Is the subset a subset of the set: False\n"
     ]
    }
   ],
   "source": [
    "subset_to_check = {2, 3}\n",
    "is_subset = subset_to_check.issubset(my_set)\n",
    "print(\"Is the subset a subset of the set:\", is_subset)\n"
   ]
  },
  {
   "cell_type": "code",
   "execution_count": 109,
   "id": "fd19e2ed-531d-485d-9b5d-a6b5c2b67d0e",
   "metadata": {},
   "outputs": [
    {
     "name": "stdout",
     "output_type": "stream",
     "text": [
      "Set of alternating 1s and 0s of length 6: {0, 1}\n"
     ]
    }
   ],
   "source": [
    "n = 6  # Change this to the desired length\n",
    "alternating_set = {1 if i % 2 == 0 else 0 for i in range(n)}\n",
    "print(f\"Set of alternating 1s and 0s of length {n}:\", alternating_set)\n"
   ]
  },
  {
   "cell_type": "code",
   "execution_count": 110,
   "id": "a33b56e1-9714-420b-9f3c-df31dd6efc95",
   "metadata": {},
   "outputs": [
    {
     "name": "stdout",
     "output_type": "stream",
     "text": [
      "Merged set: {1, 2, 3, 4, 5, 6, 7}\n"
     ]
    }
   ],
   "source": [
    "set1 = {1, 2, 3}\n",
    "set2 = {3, 4, 5}\n",
    "set3 = {5, 6, 7}\n",
    "merged_set = set1.union(set2, set3)\n",
    "print(\"Merged set:\", merged_set)\n"
   ]
  },
  {
   "cell_type": "code",
   "execution_count": null,
   "id": "b82909c8-03b8-43bb-8fe5-12986675f224",
   "metadata": {},
   "outputs": [],
   "source": []
  }
 ],
 "metadata": {
  "kernelspec": {
   "display_name": "Python 3 (ipykernel)",
   "language": "python",
   "name": "python3"
  },
  "language_info": {
   "codemirror_mode": {
    "name": "ipython",
    "version": 3
   },
   "file_extension": ".py",
   "mimetype": "text/x-python",
   "name": "python",
   "nbconvert_exporter": "python",
   "pygments_lexer": "ipython3",
   "version": "3.10.8"
  }
 },
 "nbformat": 4,
 "nbformat_minor": 5
}
